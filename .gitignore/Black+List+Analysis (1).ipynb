{
 "cells": [
  {
   "cell_type": "markdown",
   "metadata": {},
   "source": [
    "# Hollywood Black List Analysis"
   ]
  },
  {
   "cell_type": "markdown",
   "metadata": {},
   "source": [
    "In 2005 Franklin Leonard surveyed almost 100 film industry development executives about their favorite scripts from that year that had not been made as feature films. Since then the voter pool has grown to 500 film executives, 60% of whom typically respond.\n",
    "\n",
    "Over 300 Black List screenplays have been made as feature films. Those films have earned over $26 billion in worldwide box office, have been nominated for 264 Academy Awards, and have won 48, including Best Pictures SLUMDOG MILLIONAIRE, THE KING'S SPEECH, ARGO and SPOTLIGHT, and ten of the last twenty screenwriting Oscars."
   ]
  },
  {
   "cell_type": "markdown",
   "metadata": {},
   "source": [
    "# Scope of Work"
   ]
  },
  {
   "cell_type": "markdown",
   "metadata": {
    "collapsed": true
   },
   "source": [
    "Objectives:\n",
    "    \n",
    "    1. Create year comparisons based on information about financing, gender, and genre.\n",
    "    \n",
    "    2. Run for loops that search descriptions for specific words in order to group all movie titles by category.\n",
    "    \n",
    "    3. Analyze percentage of movies by category from data set with genres included."
   ]
  },
  {
   "cell_type": "markdown",
   "metadata": {},
   "source": [
    "Methods:\n",
    "    \n",
    "    1. Scrape data from the annual Black List websites. Transpose data in sheets and create a Sqlite database of all years of data.\n",
    "   \n",
    "    2. Complete exploration of data in SQL, Python, and Tableau.\n",
    "    \n",
    "    3.Create for loop functions to search movie descriptions to identify percentages of movie titles associated with specific genres.\n",
    "    \n",
    "    4. Use Scikit_learn topic modeling functions to cluster popular words in Python. Compare how many of the cluster words it would take to account for a higher percentage of movie titles than the words we initially used to categorize movie\n",
    "    titles. "
   ]
  },
  {
   "cell_type": "markdown",
   "metadata": {},
   "source": [
    "# Summary of Analysis"
   ]
  },
  {
   "cell_type": "markdown",
   "metadata": {},
   "source": [
    "- 81% of screenwriters whose scripts made the black list are men.\n",
    "\n",
    "- Since 2015 the amount of female screenwriters have doubled to 33% of the total scripts in the Black List. If this trend continues for the next 5 years we can expect equal gender representation of scripts in the black list.\n",
    "\n",
    "- When searched the word 'man' appears in 13.73% of script descriptions. 'Woman' appears in only 7.49% of script descriptions.\n",
    "\n",
    "- The percentage of scripts with financing that made the black list has been declining since 2014. This may signify that the black list is returning to it's original purpose of bringing light to great scripts that might otherwise go unnoticed.\n",
    "\n",
    "- We intially searched 42 words in the script descriptions in an attempt to account for all of the movie titles in the list. We were only able to account for 68% of script titles with those words. \n",
    "\n",
    "-human words- (love, relationship, friendship, friend, romance, romantic, true, biopic, biographical, kidnapped, murder, murdered, death, spy, spies, killer, serial killer, assassin, prison, imprisonment, cop, cops, police, torture, revenge, vengeance, war, civilian, soldier, comedy, romcom, funny, bank, rob, heist, mob, robot, future, space, alien.) \n",
    "\n",
    "- We used a cluster modeling function to identify popular topics among the movie descriptions. Through clustering Python was able to identify 11 words that when searched in our original search function were able to account for a higher percentage of script titles than our 42 words. The short list of cluster words accounted for 70% of script titles.\n",
    "\n",
    "-Python words- (life, old, young, year, man, story, true, based, world, war, family)"
   ]
  },
  {
   "cell_type": "code",
   "execution_count": 1,
   "metadata": {
    "collapsed": true
   },
   "outputs": [],
   "source": [
    "#import all tools needed for analysis\n",
    "import pandas as pd\n",
    "import numpy as np\n",
    "import sqlite3 as sql\n",
    "import matplotlib.pyplot as plt\n",
    "import seaborn as sns\n",
    "%matplotlib inline"
   ]
  },
  {
   "cell_type": "code",
   "execution_count": 2,
   "metadata": {
    "collapsed": true
   },
   "outputs": [],
   "source": [
    "#Create SQLite connection to the database I made\n",
    "database = \"BlackListComplete.db\"\n",
    "connection = sql.connect(database)"
   ]
  },
  {
   "cell_type": "code",
   "execution_count": 3,
   "metadata": {},
   "outputs": [
    {
     "data": {
      "text/html": [
       "<div>\n",
       "<style>\n",
       "    .dataframe thead tr:only-child th {\n",
       "        text-align: right;\n",
       "    }\n",
       "\n",
       "    .dataframe thead th {\n",
       "        text-align: left;\n",
       "    }\n",
       "\n",
       "    .dataframe tbody tr th {\n",
       "        vertical-align: top;\n",
       "    }\n",
       "</style>\n",
       "<table border=\"1\" class=\"dataframe\">\n",
       "  <thead>\n",
       "    <tr style=\"text-align: right;\">\n",
       "      <th></th>\n",
       "      <th>Year</th>\n",
       "      <th>Numberofvotes</th>\n",
       "      <th>Title</th>\n",
       "      <th>Screenwriter</th>\n",
       "      <th>Gender</th>\n",
       "      <th>Description</th>\n",
       "      <th>Agency</th>\n",
       "      <th>Agents</th>\n",
       "      <th>Management</th>\n",
       "      <th>Managers</th>\n",
       "      <th>Producer</th>\n",
       "      <th>Financier</th>\n",
       "    </tr>\n",
       "  </thead>\n",
       "  <tbody>\n",
       "    <tr>\n",
       "      <th>0</th>\n",
       "      <td>2008</td>\n",
       "      <td>67</td>\n",
       "      <td>THE BEAVER</td>\n",
       "      <td>Kyle Killen</td>\n",
       "      <td>M</td>\n",
       "      <td>Walter Black, a depressed toy manufacturer, lo...</td>\n",
       "      <td>WME</td>\n",
       "      <td>Cliff Roberts</td>\n",
       "      <td>Anonymous Content</td>\n",
       "      <td>Keith Redmon</td>\n",
       "      <td>Anonymous Content</td>\n",
       "      <td></td>\n",
       "    </tr>\n",
       "    <tr>\n",
       "      <th>1</th>\n",
       "      <td>2008</td>\n",
       "      <td>61</td>\n",
       "      <td>THE ORANGES</td>\n",
       "      <td>Jay Reiss &amp; Ian Helfer</td>\n",
       "      <td>M</td>\n",
       "      <td>Two New Jersey families are thrown into comic ...</td>\n",
       "      <td>CAA, Gersh</td>\n",
       "      <td>Spencer Baumgarten, Greg McKnight, Jessica Mat...</td>\n",
       "      <td>Mosaic Media Group, Principal Entertainment</td>\n",
       "      <td>Paul Nelson, Jimmy Miller, Ilan Breil, Danny S...</td>\n",
       "      <td>A Likely Story</td>\n",
       "      <td>Media Rights Capital</td>\n",
       "    </tr>\n",
       "    <tr>\n",
       "      <th>2</th>\n",
       "      <td>2008</td>\n",
       "      <td>44</td>\n",
       "      <td>BUTTER</td>\n",
       "      <td>Jason Micallef</td>\n",
       "      <td>M</td>\n",
       "      <td>Destiny, a black foster child, faces off again...</td>\n",
       "      <td>Endeavor</td>\n",
       "      <td>Phil D‚Äôamecourt, Rich Cook</td>\n",
       "      <td>Washington Square Arts</td>\n",
       "      <td>Josh McGuire</td>\n",
       "      <td>Michael De Luca</td>\n",
       "      <td></td>\n",
       "    </tr>\n",
       "    <tr>\n",
       "      <th>3</th>\n",
       "      <td>2008</td>\n",
       "      <td>42</td>\n",
       "      <td>BIG HOLE</td>\n",
       "      <td>Michael Gilio</td>\n",
       "      <td>M</td>\n",
       "      <td>Lee, an old, grumpy ex-cowboy, loses $30,000 t...</td>\n",
       "      <td>UTA</td>\n",
       "      <td>Julien Thuan</td>\n",
       "      <td>Industry Entertainment</td>\n",
       "      <td>Eryn Brown</td>\n",
       "      <td>Aversano Films</td>\n",
       "      <td></td>\n",
       "    </tr>\n",
       "    <tr>\n",
       "      <th>4</th>\n",
       "      <td>2008</td>\n",
       "      <td>40</td>\n",
       "      <td>THE LOW DWELLER</td>\n",
       "      <td>Brad Ingels</td>\n",
       "      <td>M</td>\n",
       "      <td>Charlie Slim‚Äù Hendrick, a don‚Äôt-eff-with-m...</td>\n",
       "      <td>WME</td>\n",
       "      <td>Mike Esola, Rob Carlson</td>\n",
       "      <td>Energy Entertainment</td>\n",
       "      <td>Brooklyn Weaver, Adam Marshall</td>\n",
       "      <td>Scott Free Productions, Energy Entertainment, ...</td>\n",
       "      <td>Relativity</td>\n",
       "    </tr>\n",
       "  </tbody>\n",
       "</table>\n",
       "</div>"
      ],
      "text/plain": [
       "   Year Numberofvotes            Title            Screenwriter Gender  \\\n",
       "0  2008            67       THE BEAVER             Kyle Killen      M   \n",
       "1  2008            61      THE ORANGES  Jay Reiss & Ian Helfer      M   \n",
       "2  2008            44           BUTTER          Jason Micallef      M   \n",
       "3  2008            42         BIG HOLE           Michael Gilio      M   \n",
       "4  2008            40  THE LOW DWELLER             Brad Ingels      M   \n",
       "\n",
       "                                         Description      Agency  \\\n",
       "0  Walter Black, a depressed toy manufacturer, lo...         WME   \n",
       "1  Two New Jersey families are thrown into comic ...  CAA, Gersh   \n",
       "2  Destiny, a black foster child, faces off again...    Endeavor   \n",
       "3  Lee, an old, grumpy ex-cowboy, loses $30,000 t...         UTA   \n",
       "4  Charlie Slim‚Äù Hendrick, a don‚Äôt-eff-with-m...         WME   \n",
       "\n",
       "                                              Agents  \\\n",
       "0                                      Cliff Roberts   \n",
       "1  Spencer Baumgarten, Greg McKnight, Jessica Mat...   \n",
       "2                       Phil D‚Äôamecourt, Rich Cook   \n",
       "3                                       Julien Thuan   \n",
       "4                            Mike Esola, Rob Carlson   \n",
       "\n",
       "                                    Management  \\\n",
       "0                            Anonymous Content   \n",
       "1  Mosaic Media Group, Principal Entertainment   \n",
       "2                       Washington Square Arts   \n",
       "3                       Industry Entertainment   \n",
       "4                         Energy Entertainment   \n",
       "\n",
       "                                            Managers  \\\n",
       "0                                       Keith Redmon   \n",
       "1  Paul Nelson, Jimmy Miller, Ilan Breil, Danny S...   \n",
       "2                                       Josh McGuire   \n",
       "3                                         Eryn Brown   \n",
       "4                     Brooklyn Weaver, Adam Marshall   \n",
       "\n",
       "                                            Producer             Financier  \n",
       "0                                  Anonymous Content                        \n",
       "1                                     A Likely Story  Media Rights Capital  \n",
       "2                                    Michael De Luca                        \n",
       "3                                     Aversano Films                        \n",
       "4  Scott Free Productions, Energy Entertainment, ...            Relativity  "
      ]
     },
     "execution_count": 3,
     "metadata": {},
     "output_type": "execute_result"
    }
   ],
   "source": [
    "#Create SQL query to union all data.\n",
    "\n",
    "query = '''SELECT * FROM BlackListComplete\n",
    "'''\n",
    "df = pd.read_sql_query(query, connection)\n",
    "df.head()"
   ]
  },
  {
   "cell_type": "code",
   "execution_count": 4,
   "metadata": {},
   "outputs": [
    {
     "data": {
      "text/html": [
       "<div>\n",
       "<style>\n",
       "    .dataframe thead tr:only-child th {\n",
       "        text-align: right;\n",
       "    }\n",
       "\n",
       "    .dataframe thead th {\n",
       "        text-align: left;\n",
       "    }\n",
       "\n",
       "    .dataframe tbody tr th {\n",
       "        vertical-align: top;\n",
       "    }\n",
       "</style>\n",
       "<table border=\"1\" class=\"dataframe\">\n",
       "  <thead>\n",
       "    <tr style=\"text-align: right;\">\n",
       "      <th></th>\n",
       "      <th>Year</th>\n",
       "      <th>Numberofvotes</th>\n",
       "      <th>Title</th>\n",
       "      <th>Screenwriter</th>\n",
       "      <th>Gender</th>\n",
       "      <th>Description</th>\n",
       "      <th>Agency</th>\n",
       "      <th>Agents</th>\n",
       "      <th>Management</th>\n",
       "      <th>Managers</th>\n",
       "      <th>Producer</th>\n",
       "      <th>Financier</th>\n",
       "    </tr>\n",
       "  </thead>\n",
       "  <tbody>\n",
       "    <tr>\n",
       "      <th>count</th>\n",
       "      <td>801</td>\n",
       "      <td>801</td>\n",
       "      <td>801</td>\n",
       "      <td>801</td>\n",
       "      <td>801</td>\n",
       "      <td>801</td>\n",
       "      <td>801</td>\n",
       "      <td>801</td>\n",
       "      <td>801</td>\n",
       "      <td>801</td>\n",
       "      <td>801</td>\n",
       "      <td>801</td>\n",
       "    </tr>\n",
       "    <tr>\n",
       "      <th>unique</th>\n",
       "      <td>10</td>\n",
       "      <td>53</td>\n",
       "      <td>798</td>\n",
       "      <td>714</td>\n",
       "      <td>3</td>\n",
       "      <td>796</td>\n",
       "      <td>44</td>\n",
       "      <td>542</td>\n",
       "      <td>176</td>\n",
       "      <td>353</td>\n",
       "      <td>452</td>\n",
       "      <td>126</td>\n",
       "    </tr>\n",
       "    <tr>\n",
       "      <th>top</th>\n",
       "      <td>2008</td>\n",
       "      <td>6</td>\n",
       "      <td>HOMEGROWN</td>\n",
       "      <td>Dan Fogelman</td>\n",
       "      <td>M</td>\n",
       "      <td></td>\n",
       "      <td>WME</td>\n",
       "      <td></td>\n",
       "      <td></td>\n",
       "      <td></td>\n",
       "      <td></td>\n",
       "      <td></td>\n",
       "    </tr>\n",
       "    <tr>\n",
       "      <th>freq</th>\n",
       "      <td>105</td>\n",
       "      <td>110</td>\n",
       "      <td>2</td>\n",
       "      <td>5</td>\n",
       "      <td>656</td>\n",
       "      <td>3</td>\n",
       "      <td>187</td>\n",
       "      <td>49</td>\n",
       "      <td>150</td>\n",
       "      <td>148</td>\n",
       "      <td>206</td>\n",
       "      <td>461</td>\n",
       "    </tr>\n",
       "  </tbody>\n",
       "</table>\n",
       "</div>"
      ],
      "text/plain": [
       "        Year Numberofvotes      Title  Screenwriter Gender Description Agency  \\\n",
       "count    801           801        801           801    801         801    801   \n",
       "unique    10            53        798           714      3         796     44   \n",
       "top     2008             6  HOMEGROWN  Dan Fogelman      M                WME   \n",
       "freq     105           110          2             5    656           3    187   \n",
       "\n",
       "       Agents Management Managers Producer Financier  \n",
       "count     801        801      801      801       801  \n",
       "unique    542        176      353      452       126  \n",
       "top                                                   \n",
       "freq       49        150      148      206       461  "
      ]
     },
     "execution_count": 4,
     "metadata": {},
     "output_type": "execute_result"
    }
   ],
   "source": [
    "df.describe()"
   ]
  },
  {
   "cell_type": "code",
   "execution_count": 5,
   "metadata": {
    "collapsed": true
   },
   "outputs": [],
   "source": [
    "df_2008 = df[(df.Year == '2008')]\n",
    "df_2009 = df[(df.Year == '2009')]\n",
    "df_2010 = df[(df.Year == '2010')]\n",
    "df_2011 = df[(df.Year == '2011')]\n",
    "df_2012 = df[(df.Year == '2012')]\n",
    "df_2013 = df[(df.Year == '2013')]\n",
    "df_2014 = df[(df.Year == '2014')]\n",
    "df_2015 = df[(df.Year == '2015')]\n",
    "df_2016 = df[(df.Year == '2016')]\n",
    "df_2017 = df[(df.Year == '2017')]"
   ]
  },
  {
   "cell_type": "markdown",
   "metadata": {},
   "source": [
    "# Gender of Screenwriters"
   ]
  },
  {
   "cell_type": "code",
   "execution_count": 6,
   "metadata": {
    "collapsed": true
   },
   "outputs": [],
   "source": [
    "#create a finction to calculate percentage of each gender of screenwriter\n",
    "def calc_Grate(df, column, id):\n",
    "    num_gender = df[df[column] == id].shape[0]\n",
    "    return num_gender / float(len(df)) * 100"
   ]
  },
  {
   "cell_type": "code",
   "execution_count": 7,
   "metadata": {},
   "outputs": [
    {
     "data": {
      "text/plain": [
       "81.8976279650437"
      ]
     },
     "execution_count": 7,
     "metadata": {},
     "output_type": "execute_result"
    }
   ],
   "source": [
    "#test function\n",
    "calc_Grate(df, 'Gender', 'M')"
   ]
  },
  {
   "cell_type": "code",
   "execution_count": 8,
   "metadata": {},
   "outputs": [
    {
     "data": {
      "text/plain": [
       "(0, 100)"
      ]
     },
     "execution_count": 8,
     "metadata": {},
     "output_type": "execute_result"
    },
    {
     "data": {
      "image/png": "[encoded data removed]",
      "text/plain": [
       "<matplotlib.figure.Figure at 0xea87780>"
      ]
     },
     "metadata": {},
     "output_type": "display_data"
    }
   ],
   "source": [
    "#create open list to get gender rates\n",
    "gender_rates = []\n",
    "\n",
    "#run loop to look for unique gender values\n",
    "for num_screenwriters in df.Gender.unique():\n",
    "\n",
    "#append new list to the list of unique values\n",
    "    gender_rates.append(pd.DataFrame([[num_screenwriters, calc_Grate(df, 'Gender', num_screenwriters)]],columns = ['Gender','gender_rates']))\n",
    "\n",
    "#create data frame for the gender information    \n",
    "percentage_gender = pd.concat(gender_rates)\n",
    "\n",
    "sns.barplot(\n",
    "    x='Gender',\n",
    "    y='gender_rates',\n",
    "    data=percentage_gender,\n",
    ").set_title('percentage of screenwriters M,F,or B')\n",
    "\n",
    "plt.ylim(0, 100)"
   ]
  },
  {
   "cell_type": "markdown",
   "metadata": {},
   "source": [
    "# Movie Financing"
   ]
  },
  {
   "cell_type": "code",
   "execution_count": 9,
   "metadata": {
    "collapsed": true
   },
   "outputs": [],
   "source": [
    "financed = df[(df.Financier != '')]\n"
   ]
  },
  {
   "cell_type": "code",
   "execution_count": 10,
   "metadata": {
    "collapsed": true
   },
   "outputs": [],
   "source": [
    "#create a function to find the percentage of movies that have financing by year\n",
    "def calc_Grate(df, column, id):\n",
    "    num_movies = df[df[column] == id].shape[0]\n",
    "    num_financed = financed[financed[column] == id].shape[0]\n",
    "    return num_financed / float(num_movies) * 100"
   ]
  },
  {
   "cell_type": "code",
   "execution_count": 11,
   "metadata": {},
   "outputs": [
    {
     "data": {
      "text/plain": [
       "(0, 100)"
      ]
     },
     "execution_count": 11,
     "metadata": {},
     "output_type": "execute_result"
    },
    {
     "data": {
      "image/png": "[encoded data removed]",
      "text/plain": [
       "<matplotlib.figure.Figure at 0xfe82860>"
      ]
     },
     "metadata": {},
     "output_type": "display_data"
    }
   ],
   "source": [
    "#create open list to get percentage of movies with financing\n",
    "finance_rates = []\n",
    "\n",
    "#run loop to look for unique finance values\n",
    "for num_financed in df.Year.unique():\n",
    "\n",
    "#append new list to the list of unique values\n",
    "    finance_rates.append(pd.DataFrame([[num_financed, calc_Grate(df, 'Year', num_financed)]],columns = ['Year','finance_rates']))\n",
    "\n",
    "#create data frame for the financing information    \n",
    "percentage_financed = pd.concat(finance_rates)\n",
    "\n",
    "sns.pointplot(\n",
    "    x='Year',\n",
    "    y='finance_rates',\n",
    "    data=percentage_financed,\n",
    ").set_title('Percentage of Black List Screenplays with Financing')\n",
    "\n",
    "plt.ylim(0, 100)"
   ]
  },
  {
   "cell_type": "markdown",
   "metadata": {},
   "source": [
    "# Romantic Movies"
   ]
  },
  {
   "cell_type": "code",
   "execution_count": 12,
   "metadata": {},
   "outputs": [
    {
     "data": {
      "text/plain": [
       "16.729088639201"
      ]
     },
     "execution_count": 12,
     "metadata": {},
     "output_type": "execute_result"
    }
   ],
   "source": [
    "#import count function\n",
    "from collections import Counter\n",
    "\n",
    "#create list of words I want to seach for relationship descriptions\n",
    "relationships = ['love', 'relationship', 'friendship', ' friend', 'romance', 'romantic']\n",
    "#create lists to hold found lists of movies\n",
    "#Years = []\n",
    "Title = []\n",
    "#iterate throught the length of the dataframe\n",
    "for i in range(len(df)):\n",
    "#iterate through the list of relationship words\n",
    "    for r in relationships:\n",
    "#iterate through the series of descriptions\n",
    "        if r in df.Description.iloc[i]:\n",
    "\n",
    "#append the titles of movies to the locked index\n",
    "            #Years.append(df.Year.iloc[i])\n",
    "            Title.append(df.Title.iloc[i])\n",
    "#Counter(Years)\n",
    "#divide the length of the set list of titles by the full length of movies to find percentage of relationship movies\n",
    "rela_movies = len(list(set(Title)))/float(len(df))*100\n",
    "rela_movies"
   ]
  },
  {
   "cell_type": "code",
   "execution_count": 13,
   "metadata": {},
   "outputs": [
    {
     "data": {
      "text/plain": [
       "[26, 21, 7, 12, 11, 13, 9, 11, 17, 7]"
      ]
     },
     "execution_count": 13,
     "metadata": {},
     "output_type": "execute_result"
    }
   ],
   "source": [
    "#create list to hold the number of movies by year\n",
    "mega_list = []\n",
    "#iterate through the unique years\n",
    "for i in df.Year.unique(): \n",
    "#create a list to hold the number of movies temporarily by individual year\n",
    "    super_list = []\n",
    "#iterate through the unique years\n",
    "    for f in range(len(df[df.Year == i])): \n",
    "#find the relationship movies in the unique years\n",
    "        for r in relationships: \n",
    "#if the relationship words are in the description lock the result to the index\n",
    "            if r in df[df.Year == i].Description.iloc[f]:\n",
    "\n",
    "#lock each individual super list to the the index\n",
    "                super_list.append(df[df.Year == i].Title.iloc[f])\n",
    "#append the super lists counts to the mega list\n",
    "    mega_list.append(len(set(super_list)))\n",
    "mega_list"
   ]
  },
  {
   "cell_type": "code",
   "execution_count": 14,
   "metadata": {},
   "outputs": [
    {
     "name": "stdout",
     "output_type": "stream",
     "text": [
      "[105, 97, 76, 73, 78, 72, 70, 81, 73, 76]\n"
     ]
    }
   ],
   "source": [
    "#create full counts of movies by year\n",
    "years = []\n",
    "years.append(len(df_2008))\n",
    "years.append(len(df_2009))\n",
    "years.append(len(df_2010))\n",
    "years.append(len(df_2011))\n",
    "years.append(len(df_2012))\n",
    "years.append(len(df_2013))\n",
    "years.append(len(df_2014))\n",
    "years.append(len(df_2015))\n",
    "years.append(len(df_2016))\n",
    "years.append(len(df_2017))\n",
    "print years"
   ]
  },
  {
   "cell_type": "code",
   "execution_count": 15,
   "metadata": {},
   "outputs": [
    {
     "data": {
      "text/plain": [
       "[2008, 2009, 2010, 2011, 2012, 2013, 2014, 2015, 2016, 2017]"
      ]
     },
     "execution_count": 15,
     "metadata": {},
     "output_type": "execute_result"
    }
   ],
   "source": [
    "#create a list of years to match the other value lists to\n",
    "years_date = [2008,2009,2010,2011,2012,2013,2014,2015,2016,2017]\n",
    "years_date"
   ]
  },
  {
   "cell_type": "code",
   "execution_count": 16,
   "metadata": {},
   "outputs": [
    {
     "data": {
      "text/html": [
       "<div>\n",
       "<style>\n",
       "    .dataframe thead tr:only-child th {\n",
       "        text-align: right;\n",
       "    }\n",
       "\n",
       "    .dataframe thead th {\n",
       "        text-align: left;\n",
       "    }\n",
       "\n",
       "    .dataframe tbody tr th {\n",
       "        vertical-align: top;\n",
       "    }\n",
       "</style>\n",
       "<table border=\"1\" class=\"dataframe\">\n",
       "  <thead>\n",
       "    <tr style=\"text-align: right;\">\n",
       "      <th></th>\n",
       "      <th>Years</th>\n",
       "      <th>Romance count</th>\n",
       "      <th>Total count</th>\n",
       "    </tr>\n",
       "  </thead>\n",
       "  <tbody>\n",
       "    <tr>\n",
       "      <th>0</th>\n",
       "      <td>2008</td>\n",
       "      <td>26</td>\n",
       "      <td>105</td>\n",
       "    </tr>\n",
       "    <tr>\n",
       "      <th>1</th>\n",
       "      <td>2009</td>\n",
       "      <td>21</td>\n",
       "      <td>97</td>\n",
       "    </tr>\n",
       "    <tr>\n",
       "      <th>2</th>\n",
       "      <td>2010</td>\n",
       "      <td>7</td>\n",
       "      <td>76</td>\n",
       "    </tr>\n",
       "    <tr>\n",
       "      <th>3</th>\n",
       "      <td>2011</td>\n",
       "      <td>12</td>\n",
       "      <td>73</td>\n",
       "    </tr>\n",
       "    <tr>\n",
       "      <th>4</th>\n",
       "      <td>2012</td>\n",
       "      <td>11</td>\n",
       "      <td>78</td>\n",
       "    </tr>\n",
       "    <tr>\n",
       "      <th>5</th>\n",
       "      <td>2013</td>\n",
       "      <td>13</td>\n",
       "      <td>72</td>\n",
       "    </tr>\n",
       "    <tr>\n",
       "      <th>6</th>\n",
       "      <td>2014</td>\n",
       "      <td>9</td>\n",
       "      <td>70</td>\n",
       "    </tr>\n",
       "    <tr>\n",
       "      <th>7</th>\n",
       "      <td>2015</td>\n",
       "      <td>11</td>\n",
       "      <td>81</td>\n",
       "    </tr>\n",
       "    <tr>\n",
       "      <th>8</th>\n",
       "      <td>2016</td>\n",
       "      <td>17</td>\n",
       "      <td>73</td>\n",
       "    </tr>\n",
       "    <tr>\n",
       "      <th>9</th>\n",
       "      <td>2017</td>\n",
       "      <td>7</td>\n",
       "      <td>76</td>\n",
       "    </tr>\n",
       "  </tbody>\n",
       "</table>\n",
       "</div>"
      ],
      "text/plain": [
       "   Years  Romance count  Total count\n",
       "0   2008             26          105\n",
       "1   2009             21           97\n",
       "2   2010              7           76\n",
       "3   2011             12           73\n",
       "4   2012             11           78\n",
       "5   2013             13           72\n",
       "6   2014              9           70\n",
       "7   2015             11           81\n",
       "8   2016             17           73\n",
       "9   2017              7           76"
      ]
     },
     "execution_count": 16,
     "metadata": {},
     "output_type": "execute_result"
    }
   ],
   "source": [
    "#create a data frame of the three lists\n",
    "romance_df = pd.DataFrame({'Years' : years_date,\n",
    " 'Romance count' : mega_list,\n",
    " 'Total count':years\n",
    "  }, columns=['Years','Romance count', 'Total count'])\n",
    "romance_df"
   ]
  },
  {
   "cell_type": "code",
   "execution_count": 17,
   "metadata": {},
   "outputs": [
    {
     "data": {
      "text/html": [
       "<div>\n",
       "<style>\n",
       "    .dataframe thead tr:only-child th {\n",
       "        text-align: right;\n",
       "    }\n",
       "\n",
       "    .dataframe thead th {\n",
       "        text-align: left;\n",
       "    }\n",
       "\n",
       "    .dataframe tbody tr th {\n",
       "        vertical-align: top;\n",
       "    }\n",
       "</style>\n",
       "<table border=\"1\" class=\"dataframe\">\n",
       "  <thead>\n",
       "    <tr style=\"text-align: right;\">\n",
       "      <th></th>\n",
       "      <th>Years</th>\n",
       "      <th>Romance count</th>\n",
       "      <th>Total count</th>\n",
       "      <th>Love Stories</th>\n",
       "    </tr>\n",
       "  </thead>\n",
       "  <tbody>\n",
       "    <tr>\n",
       "      <th>0</th>\n",
       "      <td>2008</td>\n",
       "      <td>26</td>\n",
       "      <td>105</td>\n",
       "      <td>24.761905</td>\n",
       "    </tr>\n",
       "    <tr>\n",
       "      <th>1</th>\n",
       "      <td>2009</td>\n",
       "      <td>21</td>\n",
       "      <td>97</td>\n",
       "      <td>21.649485</td>\n",
       "    </tr>\n",
       "    <tr>\n",
       "      <th>2</th>\n",
       "      <td>2010</td>\n",
       "      <td>7</td>\n",
       "      <td>76</td>\n",
       "      <td>9.210526</td>\n",
       "    </tr>\n",
       "    <tr>\n",
       "      <th>3</th>\n",
       "      <td>2011</td>\n",
       "      <td>12</td>\n",
       "      <td>73</td>\n",
       "      <td>16.438356</td>\n",
       "    </tr>\n",
       "    <tr>\n",
       "      <th>4</th>\n",
       "      <td>2012</td>\n",
       "      <td>11</td>\n",
       "      <td>78</td>\n",
       "      <td>14.102564</td>\n",
       "    </tr>\n",
       "    <tr>\n",
       "      <th>5</th>\n",
       "      <td>2013</td>\n",
       "      <td>13</td>\n",
       "      <td>72</td>\n",
       "      <td>18.055556</td>\n",
       "    </tr>\n",
       "    <tr>\n",
       "      <th>6</th>\n",
       "      <td>2014</td>\n",
       "      <td>9</td>\n",
       "      <td>70</td>\n",
       "      <td>12.857143</td>\n",
       "    </tr>\n",
       "    <tr>\n",
       "      <th>7</th>\n",
       "      <td>2015</td>\n",
       "      <td>11</td>\n",
       "      <td>81</td>\n",
       "      <td>13.580247</td>\n",
       "    </tr>\n",
       "    <tr>\n",
       "      <th>8</th>\n",
       "      <td>2016</td>\n",
       "      <td>17</td>\n",
       "      <td>73</td>\n",
       "      <td>23.287671</td>\n",
       "    </tr>\n",
       "    <tr>\n",
       "      <th>9</th>\n",
       "      <td>2017</td>\n",
       "      <td>7</td>\n",
       "      <td>76</td>\n",
       "      <td>9.210526</td>\n",
       "    </tr>\n",
       "  </tbody>\n",
       "</table>\n",
       "</div>"
      ],
      "text/plain": [
       "   Years  Romance count  Total count  Love Stories\n",
       "0   2008             26          105     24.761905\n",
       "1   2009             21           97     21.649485\n",
       "2   2010              7           76      9.210526\n",
       "3   2011             12           73     16.438356\n",
       "4   2012             11           78     14.102564\n",
       "5   2013             13           72     18.055556\n",
       "6   2014              9           70     12.857143\n",
       "7   2015             11           81     13.580247\n",
       "8   2016             17           73     23.287671\n",
       "9   2017              7           76      9.210526"
      ]
     },
     "execution_count": 17,
     "metadata": {},
     "output_type": "execute_result"
    }
   ],
   "source": [
    "#calculate the percentage of movies that are romantic by year\n",
    "romance_df['Love Stories'] = romance_df['Romance count']/romance_df['Total count'] * 100\n",
    "romance_df"
   ]
  },
  {
   "cell_type": "code",
   "execution_count": 18,
   "metadata": {
    "collapsed": true
   },
   "outputs": [],
   "source": [
    "#change data types to make visualizations possible\n",
    "romance_df['Years'] = romance_df['Years'].astype('category')\n",
    "romance_df['Love Stories'] = romance_df['Love Stories'].astype('float')"
   ]
  },
  {
   "cell_type": "code",
   "execution_count": 19,
   "metadata": {},
   "outputs": [
    {
     "data": {
      "text/plain": [
       "<matplotlib.text.Text at 0x10191ac8>"
      ]
     },
     "execution_count": 19,
     "metadata": {},
     "output_type": "execute_result"
    },
    {
     "data": {
      "image/png": "[encoded data removed]",
      "text/plain": [
       "<matplotlib.figure.Figure at 0xeadb5f8>"
      ]
     },
     "metadata": {},
     "output_type": "display_data"
    }
   ],
   "source": [
    "#plot percentage of love stories over the years\n",
    "sns.barplot(x=\"Years\", y=\"Love Stories\", data=romance_df);\n",
    "plt.title('Pecentage of Relationship Scripts By Year')\n"
   ]
  },
  {
   "cell_type": "markdown",
   "metadata": {
    "collapsed": true
   },
   "source": [
    "# True Stories"
   ]
  },
  {
   "cell_type": "code",
   "execution_count": 20,
   "metadata": {},
   "outputs": [
    {
     "data": {
      "text/plain": [
       "10.986267166042447"
      ]
     },
     "execution_count": 20,
     "metadata": {},
     "output_type": "execute_result"
    }
   ],
   "source": [
    "#import count function\n",
    "from collections import Counter\n",
    "\n",
    "#create list of words I want to seach for relationship descriptions\n",
    "true_story = ['true', 'true story', 'biopic', 'biographical']\n",
    "#create lists to hold found lists of movies\n",
    "#Years = []\n",
    "Title = []\n",
    "#iterate throught the length of the dataframe\n",
    "for i in range(len(df)):\n",
    "#iterate through the list of relationship words\n",
    "    for r in true_story:\n",
    "#iterate through the series of descriptions\n",
    "        if r in df.Description.iloc[i]:\n",
    "\n",
    "#append the titles of movies to the locked index\n",
    "            #Years.append(df.Year.iloc[i])\n",
    "            Title.append(df.Title.iloc[i])\n",
    "#Counter(Years)\n",
    "#divide the length of the set list of titles by the full length of movies to find percentage of relationship movies\n",
    "true_movies = len(list(set(Title)))/float(len(df))*100\n",
    "true_movies"
   ]
  },
  {
   "cell_type": "code",
   "execution_count": 21,
   "metadata": {},
   "outputs": [
    {
     "data": {
      "text/plain": [
       "[5, 6, 8, 6, 5, 11, 3, 9, 20, 15]"
      ]
     },
     "execution_count": 21,
     "metadata": {},
     "output_type": "execute_result"
    }
   ],
   "source": [
    "#create list to hold the number of movies by year\n",
    "mega_list1 = []\n",
    "#iterate through the unique years\n",
    "for i in df.Year.unique(): \n",
    "#create a list to hold the number of movies temporarily by individual year\n",
    "    super_list1 = []\n",
    "#iterate through the unique years\n",
    "    for f in range(len(df[df.Year == i])): \n",
    "#find the relationship movies in the unique years\n",
    "        for r in true_story: \n",
    "#if the relationship words are in the description lock the result to the index\n",
    "            if r in df[df.Year == i].Description.iloc[f]:\n",
    "\n",
    "#lock each individual super list to the the index\n",
    "                super_list1.append(df[df.Year == i].Title.iloc[f])\n",
    "#append the super lists counts to the mega list\n",
    "    mega_list1.append(len(set(super_list1)))\n",
    "mega_list1"
   ]
  },
  {
   "cell_type": "code",
   "execution_count": 22,
   "metadata": {},
   "outputs": [
    {
     "data": {
      "text/plain": [
       "[2008, 2009, 2010, 2011, 2012, 2013, 2014, 2015, 2016, 2017]"
      ]
     },
     "execution_count": 22,
     "metadata": {},
     "output_type": "execute_result"
    }
   ],
   "source": [
    "#create a list of years to match the other value lists to\n",
    "years_date = [2008,2009,2010,2011,2012,2013,2014,2015,2016,2017]\n",
    "years_date"
   ]
  },
  {
   "cell_type": "code",
   "execution_count": 23,
   "metadata": {},
   "outputs": [
    {
     "name": "stdout",
     "output_type": "stream",
     "text": [
      "[105, 97, 76, 73, 78, 72, 70, 81, 73, 76]\n"
     ]
    }
   ],
   "source": [
    "#create full counts of movies by year\n",
    "years = []\n",
    "years.append(len(df_2008))\n",
    "years.append(len(df_2009))\n",
    "years.append(len(df_2010))\n",
    "years.append(len(df_2011))\n",
    "years.append(len(df_2012))\n",
    "years.append(len(df_2013))\n",
    "years.append(len(df_2014))\n",
    "years.append(len(df_2015))\n",
    "years.append(len(df_2016))\n",
    "years.append(len(df_2017))\n",
    "print years"
   ]
  },
  {
   "cell_type": "code",
   "execution_count": 24,
   "metadata": {},
   "outputs": [
    {
     "data": {
      "text/html": [
       "<div>\n",
       "<style>\n",
       "    .dataframe thead tr:only-child th {\n",
       "        text-align: right;\n",
       "    }\n",
       "\n",
       "    .dataframe thead th {\n",
       "        text-align: left;\n",
       "    }\n",
       "\n",
       "    .dataframe tbody tr th {\n",
       "        vertical-align: top;\n",
       "    }\n",
       "</style>\n",
       "<table border=\"1\" class=\"dataframe\">\n",
       "  <thead>\n",
       "    <tr style=\"text-align: right;\">\n",
       "      <th></th>\n",
       "      <th>Years</th>\n",
       "      <th>True Story count</th>\n",
       "      <th>Total count</th>\n",
       "    </tr>\n",
       "  </thead>\n",
       "  <tbody>\n",
       "    <tr>\n",
       "      <th>0</th>\n",
       "      <td>2008</td>\n",
       "      <td>5</td>\n",
       "      <td>105</td>\n",
       "    </tr>\n",
       "    <tr>\n",
       "      <th>1</th>\n",
       "      <td>2009</td>\n",
       "      <td>6</td>\n",
       "      <td>97</td>\n",
       "    </tr>\n",
       "    <tr>\n",
       "      <th>2</th>\n",
       "      <td>2010</td>\n",
       "      <td>8</td>\n",
       "      <td>76</td>\n",
       "    </tr>\n",
       "    <tr>\n",
       "      <th>3</th>\n",
       "      <td>2011</td>\n",
       "      <td>6</td>\n",
       "      <td>73</td>\n",
       "    </tr>\n",
       "    <tr>\n",
       "      <th>4</th>\n",
       "      <td>2012</td>\n",
       "      <td>5</td>\n",
       "      <td>78</td>\n",
       "    </tr>\n",
       "    <tr>\n",
       "      <th>5</th>\n",
       "      <td>2013</td>\n",
       "      <td>11</td>\n",
       "      <td>72</td>\n",
       "    </tr>\n",
       "    <tr>\n",
       "      <th>6</th>\n",
       "      <td>2014</td>\n",
       "      <td>3</td>\n",
       "      <td>70</td>\n",
       "    </tr>\n",
       "    <tr>\n",
       "      <th>7</th>\n",
       "      <td>2015</td>\n",
       "      <td>9</td>\n",
       "      <td>81</td>\n",
       "    </tr>\n",
       "    <tr>\n",
       "      <th>8</th>\n",
       "      <td>2016</td>\n",
       "      <td>20</td>\n",
       "      <td>73</td>\n",
       "    </tr>\n",
       "    <tr>\n",
       "      <th>9</th>\n",
       "      <td>2017</td>\n",
       "      <td>15</td>\n",
       "      <td>76</td>\n",
       "    </tr>\n",
       "  </tbody>\n",
       "</table>\n",
       "</div>"
      ],
      "text/plain": [
       "   Years  True Story count  Total count\n",
       "0   2008                 5          105\n",
       "1   2009                 6           97\n",
       "2   2010                 8           76\n",
       "3   2011                 6           73\n",
       "4   2012                 5           78\n",
       "5   2013                11           72\n",
       "6   2014                 3           70\n",
       "7   2015                 9           81\n",
       "8   2016                20           73\n",
       "9   2017                15           76"
      ]
     },
     "execution_count": 24,
     "metadata": {},
     "output_type": "execute_result"
    }
   ],
   "source": [
    "#create a data frame of the three lists\n",
    "true_df = pd.DataFrame({'Years' : years_date,\n",
    " 'True Story count' : mega_list1,\n",
    " 'Total count':years\n",
    "  }, columns=['Years','True Story count', 'Total count'])\n",
    "true_df"
   ]
  },
  {
   "cell_type": "code",
   "execution_count": 25,
   "metadata": {},
   "outputs": [
    {
     "data": {
      "text/html": [
       "<div>\n",
       "<style>\n",
       "    .dataframe thead tr:only-child th {\n",
       "        text-align: right;\n",
       "    }\n",
       "\n",
       "    .dataframe thead th {\n",
       "        text-align: left;\n",
       "    }\n",
       "\n",
       "    .dataframe tbody tr th {\n",
       "        vertical-align: top;\n",
       "    }\n",
       "</style>\n",
       "<table border=\"1\" class=\"dataframe\">\n",
       "  <thead>\n",
       "    <tr style=\"text-align: right;\">\n",
       "      <th></th>\n",
       "      <th>Years</th>\n",
       "      <th>True Story count</th>\n",
       "      <th>Total count</th>\n",
       "      <th>True Stories</th>\n",
       "    </tr>\n",
       "  </thead>\n",
       "  <tbody>\n",
       "    <tr>\n",
       "      <th>0</th>\n",
       "      <td>2008</td>\n",
       "      <td>5</td>\n",
       "      <td>105</td>\n",
       "      <td>4.761905</td>\n",
       "    </tr>\n",
       "    <tr>\n",
       "      <th>1</th>\n",
       "      <td>2009</td>\n",
       "      <td>6</td>\n",
       "      <td>97</td>\n",
       "      <td>6.185567</td>\n",
       "    </tr>\n",
       "    <tr>\n",
       "      <th>2</th>\n",
       "      <td>2010</td>\n",
       "      <td>8</td>\n",
       "      <td>76</td>\n",
       "      <td>10.526316</td>\n",
       "    </tr>\n",
       "    <tr>\n",
       "      <th>3</th>\n",
       "      <td>2011</td>\n",
       "      <td>6</td>\n",
       "      <td>73</td>\n",
       "      <td>8.219178</td>\n",
       "    </tr>\n",
       "    <tr>\n",
       "      <th>4</th>\n",
       "      <td>2012</td>\n",
       "      <td>5</td>\n",
       "      <td>78</td>\n",
       "      <td>6.410256</td>\n",
       "    </tr>\n",
       "    <tr>\n",
       "      <th>5</th>\n",
       "      <td>2013</td>\n",
       "      <td>11</td>\n",
       "      <td>72</td>\n",
       "      <td>15.277778</td>\n",
       "    </tr>\n",
       "    <tr>\n",
       "      <th>6</th>\n",
       "      <td>2014</td>\n",
       "      <td>3</td>\n",
       "      <td>70</td>\n",
       "      <td>4.285714</td>\n",
       "    </tr>\n",
       "    <tr>\n",
       "      <th>7</th>\n",
       "      <td>2015</td>\n",
       "      <td>9</td>\n",
       "      <td>81</td>\n",
       "      <td>11.111111</td>\n",
       "    </tr>\n",
       "    <tr>\n",
       "      <th>8</th>\n",
       "      <td>2016</td>\n",
       "      <td>20</td>\n",
       "      <td>73</td>\n",
       "      <td>27.397260</td>\n",
       "    </tr>\n",
       "    <tr>\n",
       "      <th>9</th>\n",
       "      <td>2017</td>\n",
       "      <td>15</td>\n",
       "      <td>76</td>\n",
       "      <td>19.736842</td>\n",
       "    </tr>\n",
       "  </tbody>\n",
       "</table>\n",
       "</div>"
      ],
      "text/plain": [
       "   Years  True Story count  Total count  True Stories\n",
       "0   2008                 5          105      4.761905\n",
       "1   2009                 6           97      6.185567\n",
       "2   2010                 8           76     10.526316\n",
       "3   2011                 6           73      8.219178\n",
       "4   2012                 5           78      6.410256\n",
       "5   2013                11           72     15.277778\n",
       "6   2014                 3           70      4.285714\n",
       "7   2015                 9           81     11.111111\n",
       "8   2016                20           73     27.397260\n",
       "9   2017                15           76     19.736842"
      ]
     },
     "execution_count": 25,
     "metadata": {},
     "output_type": "execute_result"
    }
   ],
   "source": [
    "#calculate the percentage of movies that are romantic by year\n",
    "true_df['True Stories'] = true_df['True Story count']/true_df['Total count'] * 100\n",
    "true_df"
   ]
  },
  {
   "cell_type": "code",
   "execution_count": 26,
   "metadata": {},
   "outputs": [
    {
     "data": {
      "text/plain": [
       "<matplotlib.text.Text at 0x103a3390>"
      ]
     },
     "execution_count": 26,
     "metadata": {},
     "output_type": "execute_result"
    },
    {
     "data": {
      "image/png": "[encoded data removed]",
      "text/plain": [
       "<matplotlib.figure.Figure at 0x10191278>"
      ]
     },
     "metadata": {},
     "output_type": "display_data"
    }
   ],
   "source": [
    "#plot percentage of love stories over the years\n",
    "sns.barplot(x=\"Years\", y=\"True Stories\", data=true_df);\n",
    "plt.title('Pecentage of True Story Scripts By Year')"
   ]
  },
  {
   "cell_type": "markdown",
   "metadata": {},
   "source": [
    "# Thrillers"
   ]
  },
  {
   "cell_type": "code",
   "execution_count": 27,
   "metadata": {},
   "outputs": [
    {
     "data": {
      "text/plain": [
       "21.34831460674157"
      ]
     },
     "execution_count": 27,
     "metadata": {},
     "output_type": "execute_result"
    }
   ],
   "source": [
    "#import count function\n",
    "from collections import Counter\n",
    "\n",
    "#create list of words I want to seach for relationship descriptions\n",
    "thriller = ['kidnapped', 'murder','murdered', 'death', 'spy', 'spies', 'killer', 'serial killer', 'assassin', 'prison', 'imprisonment', 'cop','cops','police', 'torture', 'revenge']\n",
    "#create lists to hold found lists of movies\n",
    "#Years = []\n",
    "Title = []\n",
    "#iterate throught the length of the dataframe\n",
    "for i in range(len(df)):\n",
    "#iterate through the list of relationship words\n",
    "    for r in thriller:\n",
    "#iterate through the series of descriptions\n",
    "        if r in df.Description.iloc[i]:\n",
    "\n",
    "#append the titles of movies to the locked index\n",
    "            #Years.append(df.Year.iloc[i])\n",
    "            Title.append(df.Title.iloc[i])\n",
    "#Counter(Years)\n",
    "#divide the length of the set list of titles by the full length of movies to find percentage of relationship movies\n",
    "thriller_movies = len(list(set(Title)))/float(len(df))*100\n",
    "thriller_movies"
   ]
  },
  {
   "cell_type": "code",
   "execution_count": 28,
   "metadata": {},
   "outputs": [
    {
     "data": {
      "text/plain": [
       "[23, 26, 17, 15, 14, 15, 13, 23, 8, 17]"
      ]
     },
     "execution_count": 28,
     "metadata": {},
     "output_type": "execute_result"
    }
   ],
   "source": [
    "#create list to hold the number of movies by year\n",
    "mega_list2 = []\n",
    "#iterate through the unique years\n",
    "for i in df.Year.unique(): \n",
    "#create a list to hold the number of movies temporarily by individual year\n",
    "    super_list2 = []\n",
    "#iterate through the unique years\n",
    "    for f in range(len(df[df.Year == i])): \n",
    "#find the relationship movies in the unique years\n",
    "        for r in thriller: \n",
    "#if the relationship words are in the description lock the result to the index\n",
    "            if r in df[df.Year == i].Description.iloc[f]:\n",
    "\n",
    "#lock each individual super list to the the index\n",
    "                super_list2.append(df[df.Year == i].Title.iloc[f])\n",
    "#append the super lists counts to the mega list\n",
    "    mega_list2.append(len(set(super_list2)))\n",
    "mega_list2"
   ]
  },
  {
   "cell_type": "code",
   "execution_count": 29,
   "metadata": {},
   "outputs": [
    {
     "data": {
      "text/html": [
       "<div>\n",
       "<style>\n",
       "    .dataframe thead tr:only-child th {\n",
       "        text-align: right;\n",
       "    }\n",
       "\n",
       "    .dataframe thead th {\n",
       "        text-align: left;\n",
       "    }\n",
       "\n",
       "    .dataframe tbody tr th {\n",
       "        vertical-align: top;\n",
       "    }\n",
       "</style>\n",
       "<table border=\"1\" class=\"dataframe\">\n",
       "  <thead>\n",
       "    <tr style=\"text-align: right;\">\n",
       "      <th></th>\n",
       "      <th>Years</th>\n",
       "      <th>Thriller count</th>\n",
       "      <th>Total count</th>\n",
       "    </tr>\n",
       "  </thead>\n",
       "  <tbody>\n",
       "    <tr>\n",
       "      <th>0</th>\n",
       "      <td>2008</td>\n",
       "      <td>23</td>\n",
       "      <td>105</td>\n",
       "    </tr>\n",
       "    <tr>\n",
       "      <th>1</th>\n",
       "      <td>2009</td>\n",
       "      <td>26</td>\n",
       "      <td>97</td>\n",
       "    </tr>\n",
       "    <tr>\n",
       "      <th>2</th>\n",
       "      <td>2010</td>\n",
       "      <td>17</td>\n",
       "      <td>76</td>\n",
       "    </tr>\n",
       "    <tr>\n",
       "      <th>3</th>\n",
       "      <td>2011</td>\n",
       "      <td>15</td>\n",
       "      <td>73</td>\n",
       "    </tr>\n",
       "    <tr>\n",
       "      <th>4</th>\n",
       "      <td>2012</td>\n",
       "      <td>14</td>\n",
       "      <td>78</td>\n",
       "    </tr>\n",
       "    <tr>\n",
       "      <th>5</th>\n",
       "      <td>2013</td>\n",
       "      <td>15</td>\n",
       "      <td>72</td>\n",
       "    </tr>\n",
       "    <tr>\n",
       "      <th>6</th>\n",
       "      <td>2014</td>\n",
       "      <td>13</td>\n",
       "      <td>70</td>\n",
       "    </tr>\n",
       "    <tr>\n",
       "      <th>7</th>\n",
       "      <td>2015</td>\n",
       "      <td>23</td>\n",
       "      <td>81</td>\n",
       "    </tr>\n",
       "    <tr>\n",
       "      <th>8</th>\n",
       "      <td>2016</td>\n",
       "      <td>8</td>\n",
       "      <td>73</td>\n",
       "    </tr>\n",
       "    <tr>\n",
       "      <th>9</th>\n",
       "      <td>2017</td>\n",
       "      <td>17</td>\n",
       "      <td>76</td>\n",
       "    </tr>\n",
       "  </tbody>\n",
       "</table>\n",
       "</div>"
      ],
      "text/plain": [
       "   Years  Thriller count  Total count\n",
       "0   2008              23          105\n",
       "1   2009              26           97\n",
       "2   2010              17           76\n",
       "3   2011              15           73\n",
       "4   2012              14           78\n",
       "5   2013              15           72\n",
       "6   2014              13           70\n",
       "7   2015              23           81\n",
       "8   2016               8           73\n",
       "9   2017              17           76"
      ]
     },
     "execution_count": 29,
     "metadata": {},
     "output_type": "execute_result"
    }
   ],
   "source": [
    "#create a data frame of the three lists\n",
    "thriller_df = pd.DataFrame({'Years' : years_date,\n",
    " 'Thriller count' : mega_list2,\n",
    " 'Total count':years\n",
    "  }, columns=['Years','Thriller count', 'Total count'])\n",
    "thriller_df"
   ]
  },
  {
   "cell_type": "code",
   "execution_count": 30,
   "metadata": {},
   "outputs": [
    {
     "data": {
      "text/html": [
       "<div>\n",
       "<style>\n",
       "    .dataframe thead tr:only-child th {\n",
       "        text-align: right;\n",
       "    }\n",
       "\n",
       "    .dataframe thead th {\n",
       "        text-align: left;\n",
       "    }\n",
       "\n",
       "    .dataframe tbody tr th {\n",
       "        vertical-align: top;\n",
       "    }\n",
       "</style>\n",
       "<table border=\"1\" class=\"dataframe\">\n",
       "  <thead>\n",
       "    <tr style=\"text-align: right;\">\n",
       "      <th></th>\n",
       "      <th>Years</th>\n",
       "      <th>Thriller count</th>\n",
       "      <th>Total count</th>\n",
       "      <th>Thrillers</th>\n",
       "    </tr>\n",
       "  </thead>\n",
       "  <tbody>\n",
       "    <tr>\n",
       "      <th>0</th>\n",
       "      <td>2008</td>\n",
       "      <td>23</td>\n",
       "      <td>105</td>\n",
       "      <td>21.904762</td>\n",
       "    </tr>\n",
       "    <tr>\n",
       "      <th>1</th>\n",
       "      <td>2009</td>\n",
       "      <td>26</td>\n",
       "      <td>97</td>\n",
       "      <td>26.804124</td>\n",
       "    </tr>\n",
       "    <tr>\n",
       "      <th>2</th>\n",
       "      <td>2010</td>\n",
       "      <td>17</td>\n",
       "      <td>76</td>\n",
       "      <td>22.368421</td>\n",
       "    </tr>\n",
       "    <tr>\n",
       "      <th>3</th>\n",
       "      <td>2011</td>\n",
       "      <td>15</td>\n",
       "      <td>73</td>\n",
       "      <td>20.547945</td>\n",
       "    </tr>\n",
       "    <tr>\n",
       "      <th>4</th>\n",
       "      <td>2012</td>\n",
       "      <td>14</td>\n",
       "      <td>78</td>\n",
       "      <td>17.948718</td>\n",
       "    </tr>\n",
       "    <tr>\n",
       "      <th>5</th>\n",
       "      <td>2013</td>\n",
       "      <td>15</td>\n",
       "      <td>72</td>\n",
       "      <td>20.833333</td>\n",
       "    </tr>\n",
       "    <tr>\n",
       "      <th>6</th>\n",
       "      <td>2014</td>\n",
       "      <td>13</td>\n",
       "      <td>70</td>\n",
       "      <td>18.571429</td>\n",
       "    </tr>\n",
       "    <tr>\n",
       "      <th>7</th>\n",
       "      <td>2015</td>\n",
       "      <td>23</td>\n",
       "      <td>81</td>\n",
       "      <td>28.395062</td>\n",
       "    </tr>\n",
       "    <tr>\n",
       "      <th>8</th>\n",
       "      <td>2016</td>\n",
       "      <td>8</td>\n",
       "      <td>73</td>\n",
       "      <td>10.958904</td>\n",
       "    </tr>\n",
       "    <tr>\n",
       "      <th>9</th>\n",
       "      <td>2017</td>\n",
       "      <td>17</td>\n",
       "      <td>76</td>\n",
       "      <td>22.368421</td>\n",
       "    </tr>\n",
       "  </tbody>\n",
       "</table>\n",
       "</div>"
      ],
      "text/plain": [
       "   Years  Thriller count  Total count  Thrillers\n",
       "0   2008              23          105  21.904762\n",
       "1   2009              26           97  26.804124\n",
       "2   2010              17           76  22.368421\n",
       "3   2011              15           73  20.547945\n",
       "4   2012              14           78  17.948718\n",
       "5   2013              15           72  20.833333\n",
       "6   2014              13           70  18.571429\n",
       "7   2015              23           81  28.395062\n",
       "8   2016               8           73  10.958904\n",
       "9   2017              17           76  22.368421"
      ]
     },
     "execution_count": 30,
     "metadata": {},
     "output_type": "execute_result"
    }
   ],
   "source": [
    "#calculate the percentage of movies that are romantic by year\n",
    "thriller_df['Thrillers'] = thriller_df['Thriller count']/thriller_df['Total count'] * 100\n",
    "thriller_df"
   ]
  },
  {
   "cell_type": "code",
   "execution_count": 31,
   "metadata": {},
   "outputs": [
    {
     "data": {
      "text/plain": [
       "<matplotlib.text.Text at 0x106b7908>"
      ]
     },
     "execution_count": 31,
     "metadata": {},
     "output_type": "execute_result"
    },
    {
     "data": {
      "image/png": "[encoded data removed]",
      "text/plain": [
       "<matplotlib.figure.Figure at 0x10383898>"
      ]
     },
     "metadata": {},
     "output_type": "display_data"
    }
   ],
   "source": [
    "#plot percentage of love stories over the years\n",
    "sns.barplot(x=\"Years\", y=\"Thrillers\", data=thriller_df);\n",
    "plt.title('Pecentage of Thriller Scripts By Year')"
   ]
  },
  {
   "cell_type": "markdown",
   "metadata": {},
   "source": [
    "# War Stories"
   ]
  },
  {
   "cell_type": "code",
   "execution_count": 32,
   "metadata": {},
   "outputs": [
    {
     "data": {
      "text/plain": [
       "7.365792759051186"
      ]
     },
     "execution_count": 32,
     "metadata": {},
     "output_type": "execute_result"
    }
   ],
   "source": [
    "#import count function\n",
    "from collections import Counter\n",
    "\n",
    "#create list of words I want to seach for relationship descriptions\n",
    "war = ['war', 'civilian', 'soldier']\n",
    "#create lists to hold found lists of movies\n",
    "#Years = []\n",
    "Title = []\n",
    "#iterate throught the length of the dataframe\n",
    "for i in range(len(df)):\n",
    "#iterate through the list of relationship words\n",
    "    for r in war:\n",
    "#iterate through the series of descriptions\n",
    "        if r in df.Description.iloc[i]:\n",
    "\n",
    "#append the titles of movies to the locked index\n",
    "            #Years.append(df.Year.iloc[i])\n",
    "            Title.append(df.Title.iloc[i])\n",
    "#Counter(Years)\n",
    "#divide the length of the set list of titles by the full length of movies to find percentage of relationship movies\n",
    "war_movies = len(list(set(Title)))/float(len(df))*100\n",
    "war_movies"
   ]
  },
  {
   "cell_type": "code",
   "execution_count": 33,
   "metadata": {},
   "outputs": [
    {
     "data": {
      "text/plain": [
       "[6, 8, 2, 4, 7, 5, 7, 11, 5, 4]"
      ]
     },
     "execution_count": 33,
     "metadata": {},
     "output_type": "execute_result"
    }
   ],
   "source": [
    "#create list to hold the number of movies by year\n",
    "mega_list3 = []\n",
    "#iterate through the unique years\n",
    "for i in df.Year.unique(): \n",
    "#create a list to hold the number of movies temporarily by individual year\n",
    "    super_list3 = []\n",
    "#iterate through the unique years\n",
    "    for f in range(len(df[df.Year == i])): \n",
    "#find the relationship movies in the unique years\n",
    "        for r in war: \n",
    "#if the relationship words are in the description lock the result to the index\n",
    "            if r in df[df.Year == i].Description.iloc[f]:\n",
    "\n",
    "#lock each individual super list to the the index\n",
    "                super_list3.append(df[df.Year == i].Title.iloc[f])\n",
    "#append the super lists counts to the mega list\n",
    "    mega_list3.append(len(set(super_list3)))\n",
    "mega_list3"
   ]
  },
  {
   "cell_type": "code",
   "execution_count": 34,
   "metadata": {},
   "outputs": [
    {
     "data": {
      "text/html": [
       "<div>\n",
       "<style>\n",
       "    .dataframe thead tr:only-child th {\n",
       "        text-align: right;\n",
       "    }\n",
       "\n",
       "    .dataframe thead th {\n",
       "        text-align: left;\n",
       "    }\n",
       "\n",
       "    .dataframe tbody tr th {\n",
       "        vertical-align: top;\n",
       "    }\n",
       "</style>\n",
       "<table border=\"1\" class=\"dataframe\">\n",
       "  <thead>\n",
       "    <tr style=\"text-align: right;\">\n",
       "      <th></th>\n",
       "      <th>Years</th>\n",
       "      <th>War count</th>\n",
       "      <th>Total count</th>\n",
       "    </tr>\n",
       "  </thead>\n",
       "  <tbody>\n",
       "    <tr>\n",
       "      <th>0</th>\n",
       "      <td>2008</td>\n",
       "      <td>6</td>\n",
       "      <td>105</td>\n",
       "    </tr>\n",
       "    <tr>\n",
       "      <th>1</th>\n",
       "      <td>2009</td>\n",
       "      <td>8</td>\n",
       "      <td>97</td>\n",
       "    </tr>\n",
       "    <tr>\n",
       "      <th>2</th>\n",
       "      <td>2010</td>\n",
       "      <td>2</td>\n",
       "      <td>76</td>\n",
       "    </tr>\n",
       "    <tr>\n",
       "      <th>3</th>\n",
       "      <td>2011</td>\n",
       "      <td>4</td>\n",
       "      <td>73</td>\n",
       "    </tr>\n",
       "    <tr>\n",
       "      <th>4</th>\n",
       "      <td>2012</td>\n",
       "      <td>7</td>\n",
       "      <td>78</td>\n",
       "    </tr>\n",
       "    <tr>\n",
       "      <th>5</th>\n",
       "      <td>2013</td>\n",
       "      <td>5</td>\n",
       "      <td>72</td>\n",
       "    </tr>\n",
       "    <tr>\n",
       "      <th>6</th>\n",
       "      <td>2014</td>\n",
       "      <td>7</td>\n",
       "      <td>70</td>\n",
       "    </tr>\n",
       "    <tr>\n",
       "      <th>7</th>\n",
       "      <td>2015</td>\n",
       "      <td>11</td>\n",
       "      <td>81</td>\n",
       "    </tr>\n",
       "    <tr>\n",
       "      <th>8</th>\n",
       "      <td>2016</td>\n",
       "      <td>5</td>\n",
       "      <td>73</td>\n",
       "    </tr>\n",
       "    <tr>\n",
       "      <th>9</th>\n",
       "      <td>2017</td>\n",
       "      <td>4</td>\n",
       "      <td>76</td>\n",
       "    </tr>\n",
       "  </tbody>\n",
       "</table>\n",
       "</div>"
      ],
      "text/plain": [
       "   Years  War count  Total count\n",
       "0   2008          6          105\n",
       "1   2009          8           97\n",
       "2   2010          2           76\n",
       "3   2011          4           73\n",
       "4   2012          7           78\n",
       "5   2013          5           72\n",
       "6   2014          7           70\n",
       "7   2015         11           81\n",
       "8   2016          5           73\n",
       "9   2017          4           76"
      ]
     },
     "execution_count": 34,
     "metadata": {},
     "output_type": "execute_result"
    }
   ],
   "source": [
    "#create a data frame of the three lists\n",
    "war_df = pd.DataFrame({'Years' : years_date,\n",
    " 'War count' : mega_list3,\n",
    " 'Total count':years\n",
    "  }, columns=['Years','War count', 'Total count'])\n",
    "war_df"
   ]
  },
  {
   "cell_type": "code",
   "execution_count": 35,
   "metadata": {},
   "outputs": [
    {
     "data": {
      "text/html": [
       "<div>\n",
       "<style>\n",
       "    .dataframe thead tr:only-child th {\n",
       "        text-align: right;\n",
       "    }\n",
       "\n",
       "    .dataframe thead th {\n",
       "        text-align: left;\n",
       "    }\n",
       "\n",
       "    .dataframe tbody tr th {\n",
       "        vertical-align: top;\n",
       "    }\n",
       "</style>\n",
       "<table border=\"1\" class=\"dataframe\">\n",
       "  <thead>\n",
       "    <tr style=\"text-align: right;\">\n",
       "      <th></th>\n",
       "      <th>Years</th>\n",
       "      <th>War count</th>\n",
       "      <th>Total count</th>\n",
       "      <th>War Stories</th>\n",
       "    </tr>\n",
       "  </thead>\n",
       "  <tbody>\n",
       "    <tr>\n",
       "      <th>0</th>\n",
       "      <td>2008</td>\n",
       "      <td>6</td>\n",
       "      <td>105</td>\n",
       "      <td>5.714286</td>\n",
       "    </tr>\n",
       "    <tr>\n",
       "      <th>1</th>\n",
       "      <td>2009</td>\n",
       "      <td>8</td>\n",
       "      <td>97</td>\n",
       "      <td>8.247423</td>\n",
       "    </tr>\n",
       "    <tr>\n",
       "      <th>2</th>\n",
       "      <td>2010</td>\n",
       "      <td>2</td>\n",
       "      <td>76</td>\n",
       "      <td>2.631579</td>\n",
       "    </tr>\n",
       "    <tr>\n",
       "      <th>3</th>\n",
       "      <td>2011</td>\n",
       "      <td>4</td>\n",
       "      <td>73</td>\n",
       "      <td>5.479452</td>\n",
       "    </tr>\n",
       "    <tr>\n",
       "      <th>4</th>\n",
       "      <td>2012</td>\n",
       "      <td>7</td>\n",
       "      <td>78</td>\n",
       "      <td>8.974359</td>\n",
       "    </tr>\n",
       "    <tr>\n",
       "      <th>5</th>\n",
       "      <td>2013</td>\n",
       "      <td>5</td>\n",
       "      <td>72</td>\n",
       "      <td>6.944444</td>\n",
       "    </tr>\n",
       "    <tr>\n",
       "      <th>6</th>\n",
       "      <td>2014</td>\n",
       "      <td>7</td>\n",
       "      <td>70</td>\n",
       "      <td>10.000000</td>\n",
       "    </tr>\n",
       "    <tr>\n",
       "      <th>7</th>\n",
       "      <td>2015</td>\n",
       "      <td>11</td>\n",
       "      <td>81</td>\n",
       "      <td>13.580247</td>\n",
       "    </tr>\n",
       "    <tr>\n",
       "      <th>8</th>\n",
       "      <td>2016</td>\n",
       "      <td>5</td>\n",
       "      <td>73</td>\n",
       "      <td>6.849315</td>\n",
       "    </tr>\n",
       "    <tr>\n",
       "      <th>9</th>\n",
       "      <td>2017</td>\n",
       "      <td>4</td>\n",
       "      <td>76</td>\n",
       "      <td>5.263158</td>\n",
       "    </tr>\n",
       "  </tbody>\n",
       "</table>\n",
       "</div>"
      ],
      "text/plain": [
       "   Years  War count  Total count  War Stories\n",
       "0   2008          6          105     5.714286\n",
       "1   2009          8           97     8.247423\n",
       "2   2010          2           76     2.631579\n",
       "3   2011          4           73     5.479452\n",
       "4   2012          7           78     8.974359\n",
       "5   2013          5           72     6.944444\n",
       "6   2014          7           70    10.000000\n",
       "7   2015         11           81    13.580247\n",
       "8   2016          5           73     6.849315\n",
       "9   2017          4           76     5.263158"
      ]
     },
     "execution_count": 35,
     "metadata": {},
     "output_type": "execute_result"
    }
   ],
   "source": [
    "#calculate the percentage of movies that are romantic by year\n",
    "war_df['War Stories'] = war_df['War count']/war_df['Total count'] * 100\n",
    "war_df"
   ]
  },
  {
   "cell_type": "code",
   "execution_count": 36,
   "metadata": {},
   "outputs": [
    {
     "data": {
      "text/plain": [
       "<matplotlib.text.Text at 0xfdd9518>"
      ]
     },
     "execution_count": 36,
     "metadata": {},
     "output_type": "execute_result"
    },
    {
     "data": {
      "image/png": "[encoded data removed]",
      "text/plain": [
       "<matplotlib.figure.Figure at 0x108dc828>"
      ]
     },
     "metadata": {},
     "output_type": "display_data"
    }
   ],
   "source": [
    "#plot percentage of love stories over the years\n",
    "sns.barplot(x=\"Years\", y=\"War Stories\", data=war_df);\n",
    "plt.title('Pecentage of War Scripts By Year')"
   ]
  },
  {
   "cell_type": "markdown",
   "metadata": {},
   "source": [
    "# Comedy"
   ]
  },
  {
   "cell_type": "code",
   "execution_count": 37,
   "metadata": {},
   "outputs": [
    {
     "data": {
      "text/plain": [
       "1.7478152309612984"
      ]
     },
     "execution_count": 37,
     "metadata": {},
     "output_type": "execute_result"
    }
   ],
   "source": [
    "#import count function\n",
    "from collections import Counter\n",
    "\n",
    "#create list of words I want to seach for comedy descriptions\n",
    "comedy = ['comedy', 'romcom', 'funny']\n",
    "#create lists to hold found lists of movies\n",
    "#Years = []\n",
    "Title = []\n",
    "#iterate throught the length of the dataframe\n",
    "for i in range(len(df)):\n",
    "#iterate through the list of relationship words\n",
    "    for r in comedy:\n",
    "#iterate through the series of descriptions\n",
    "        if r in df.Description.iloc[i]:\n",
    "\n",
    "#append the titles of movies to the locked index\n",
    "            #Years.append(df.Year.iloc[i])\n",
    "            Title.append(df.Title.iloc[i])\n",
    "#Counter(Years)\n",
    "#divide the length of the set list of titles by the full length of movies to find percentage of relationship movies\n",
    "comedy_movies = len(list(set(Title)))/float(len(df))*100\n",
    "comedy_movies"
   ]
  },
  {
   "cell_type": "code",
   "execution_count": 89,
   "metadata": {},
   "outputs": [
    {
     "data": {
      "text/plain": [
       "[3, 5, 2, 1, 0, 1, 1, 0, 1, 0]"
      ]
     },
     "execution_count": 89,
     "metadata": {},
     "output_type": "execute_result"
    }
   ],
   "source": [
    "#create list to hold the number of movies by year\n",
    "mega_list4 = []\n",
    "#iterate through the unique years\n",
    "for i in df.Year.unique(): \n",
    "#create a list to hold the number of movies temporarily by individual year\n",
    "    super_list4 = []\n",
    "#iterate through the unique years\n",
    "    for f in range(len(df[df.Year == i])): \n",
    "#find the comedy movies in the unique years\n",
    "        for r in comedy: \n",
    "#if the relationship words are in the description lock the result to the index\n",
    "            if r in df[df.Year == i].Description.iloc[f]:\n",
    "\n",
    "#lock each individual super list to the the index\n",
    "                super_list4.append(df[df.Year == i].Title.iloc[f])\n",
    "#append the super lists counts to the mega list\n",
    "    mega_list4.append(len(set(super_list4)))\n",
    "mega_list4"
   ]
  },
  {
   "cell_type": "code",
   "execution_count": 90,
   "metadata": {},
   "outputs": [
    {
     "data": {
      "text/html": [
       "<div>\n",
       "<style>\n",
       "    .dataframe thead tr:only-child th {\n",
       "        text-align: right;\n",
       "    }\n",
       "\n",
       "    .dataframe thead th {\n",
       "        text-align: left;\n",
       "    }\n",
       "\n",
       "    .dataframe tbody tr th {\n",
       "        vertical-align: top;\n",
       "    }\n",
       "</style>\n",
       "<table border=\"1\" class=\"dataframe\">\n",
       "  <thead>\n",
       "    <tr style=\"text-align: right;\">\n",
       "      <th></th>\n",
       "      <th>Years</th>\n",
       "      <th>Comedy count</th>\n",
       "      <th>Total count</th>\n",
       "    </tr>\n",
       "  </thead>\n",
       "  <tbody>\n",
       "    <tr>\n",
       "      <th>0</th>\n",
       "      <td>2008</td>\n",
       "      <td>3</td>\n",
       "      <td>105</td>\n",
       "    </tr>\n",
       "    <tr>\n",
       "      <th>1</th>\n",
       "      <td>2009</td>\n",
       "      <td>5</td>\n",
       "      <td>97</td>\n",
       "    </tr>\n",
       "    <tr>\n",
       "      <th>2</th>\n",
       "      <td>2010</td>\n",
       "      <td>2</td>\n",
       "      <td>76</td>\n",
       "    </tr>\n",
       "    <tr>\n",
       "      <th>3</th>\n",
       "      <td>2011</td>\n",
       "      <td>1</td>\n",
       "      <td>73</td>\n",
       "    </tr>\n",
       "    <tr>\n",
       "      <th>4</th>\n",
       "      <td>2012</td>\n",
       "      <td>0</td>\n",
       "      <td>78</td>\n",
       "    </tr>\n",
       "    <tr>\n",
       "      <th>5</th>\n",
       "      <td>2013</td>\n",
       "      <td>1</td>\n",
       "      <td>72</td>\n",
       "    </tr>\n",
       "    <tr>\n",
       "      <th>6</th>\n",
       "      <td>2014</td>\n",
       "      <td>1</td>\n",
       "      <td>70</td>\n",
       "    </tr>\n",
       "    <tr>\n",
       "      <th>7</th>\n",
       "      <td>2015</td>\n",
       "      <td>0</td>\n",
       "      <td>81</td>\n",
       "    </tr>\n",
       "    <tr>\n",
       "      <th>8</th>\n",
       "      <td>2016</td>\n",
       "      <td>1</td>\n",
       "      <td>73</td>\n",
       "    </tr>\n",
       "    <tr>\n",
       "      <th>9</th>\n",
       "      <td>2017</td>\n",
       "      <td>0</td>\n",
       "      <td>76</td>\n",
       "    </tr>\n",
       "  </tbody>\n",
       "</table>\n",
       "</div>"
      ],
      "text/plain": [
       "   Years  Comedy count  Total count\n",
       "0   2008             3          105\n",
       "1   2009             5           97\n",
       "2   2010             2           76\n",
       "3   2011             1           73\n",
       "4   2012             0           78\n",
       "5   2013             1           72\n",
       "6   2014             1           70\n",
       "7   2015             0           81\n",
       "8   2016             1           73\n",
       "9   2017             0           76"
      ]
     },
     "execution_count": 90,
     "metadata": {},
     "output_type": "execute_result"
    }
   ],
   "source": [
    "#create a data frame of the three lists\n",
    "comedy_df = pd.DataFrame({'Years' : years_date,\n",
    " 'Comedy count' : mega_list4,\n",
    " 'Total count':years\n",
    "  }, columns=['Years','Comedy count', 'Total count'])\n",
    "comedy_df"
   ]
  },
  {
   "cell_type": "code",
   "execution_count": 91,
   "metadata": {},
   "outputs": [
    {
     "data": {
      "text/html": [
       "<div>\n",
       "<style>\n",
       "    .dataframe thead tr:only-child th {\n",
       "        text-align: right;\n",
       "    }\n",
       "\n",
       "    .dataframe thead th {\n",
       "        text-align: left;\n",
       "    }\n",
       "\n",
       "    .dataframe tbody tr th {\n",
       "        vertical-align: top;\n",
       "    }\n",
       "</style>\n",
       "<table border=\"1\" class=\"dataframe\">\n",
       "  <thead>\n",
       "    <tr style=\"text-align: right;\">\n",
       "      <th></th>\n",
       "      <th>Years</th>\n",
       "      <th>Comedy count</th>\n",
       "      <th>Total count</th>\n",
       "      <th>Comedy Stories</th>\n",
       "    </tr>\n",
       "  </thead>\n",
       "  <tbody>\n",
       "    <tr>\n",
       "      <th>0</th>\n",
       "      <td>2008</td>\n",
       "      <td>3</td>\n",
       "      <td>105</td>\n",
       "      <td>2.857143</td>\n",
       "    </tr>\n",
       "    <tr>\n",
       "      <th>1</th>\n",
       "      <td>2009</td>\n",
       "      <td>5</td>\n",
       "      <td>97</td>\n",
       "      <td>5.154639</td>\n",
       "    </tr>\n",
       "    <tr>\n",
       "      <th>2</th>\n",
       "      <td>2010</td>\n",
       "      <td>2</td>\n",
       "      <td>76</td>\n",
       "      <td>2.631579</td>\n",
       "    </tr>\n",
       "    <tr>\n",
       "      <th>3</th>\n",
       "      <td>2011</td>\n",
       "      <td>1</td>\n",
       "      <td>73</td>\n",
       "      <td>1.369863</td>\n",
       "    </tr>\n",
       "    <tr>\n",
       "      <th>4</th>\n",
       "      <td>2012</td>\n",
       "      <td>0</td>\n",
       "      <td>78</td>\n",
       "      <td>0.000000</td>\n",
       "    </tr>\n",
       "    <tr>\n",
       "      <th>5</th>\n",
       "      <td>2013</td>\n",
       "      <td>1</td>\n",
       "      <td>72</td>\n",
       "      <td>1.388889</td>\n",
       "    </tr>\n",
       "    <tr>\n",
       "      <th>6</th>\n",
       "      <td>2014</td>\n",
       "      <td>1</td>\n",
       "      <td>70</td>\n",
       "      <td>1.428571</td>\n",
       "    </tr>\n",
       "    <tr>\n",
       "      <th>7</th>\n",
       "      <td>2015</td>\n",
       "      <td>0</td>\n",
       "      <td>81</td>\n",
       "      <td>0.000000</td>\n",
       "    </tr>\n",
       "    <tr>\n",
       "      <th>8</th>\n",
       "      <td>2016</td>\n",
       "      <td>1</td>\n",
       "      <td>73</td>\n",
       "      <td>1.369863</td>\n",
       "    </tr>\n",
       "    <tr>\n",
       "      <th>9</th>\n",
       "      <td>2017</td>\n",
       "      <td>0</td>\n",
       "      <td>76</td>\n",
       "      <td>0.000000</td>\n",
       "    </tr>\n",
       "  </tbody>\n",
       "</table>\n",
       "</div>"
      ],
      "text/plain": [
       "   Years  Comedy count  Total count  Comedy Stories\n",
       "0   2008             3          105        2.857143\n",
       "1   2009             5           97        5.154639\n",
       "2   2010             2           76        2.631579\n",
       "3   2011             1           73        1.369863\n",
       "4   2012             0           78        0.000000\n",
       "5   2013             1           72        1.388889\n",
       "6   2014             1           70        1.428571\n",
       "7   2015             0           81        0.000000\n",
       "8   2016             1           73        1.369863\n",
       "9   2017             0           76        0.000000"
      ]
     },
     "execution_count": 91,
     "metadata": {},
     "output_type": "execute_result"
    }
   ],
   "source": [
    "#calculate the percentage of movies that are romantic by year\n",
    "comedy_df['Comedy Stories'] = comedy_df['Comedy count']/comedy_df['Total count'] * 100\n",
    "comedy_df"
   ]
  },
  {
   "cell_type": "code",
   "execution_count": 92,
   "metadata": {},
   "outputs": [
    {
     "data": {
      "text/plain": [
       "<matplotlib.text.Text at 0x12035c50>"
      ]
     },
     "execution_count": 92,
     "metadata": {},
     "output_type": "execute_result"
    },
    {
     "data": {
      "image/png": "[encoded data removed]",
      "text/plain": [
       "<matplotlib.figure.Figure at 0x11c7ba20>"
      ]
     },
     "metadata": {},
     "output_type": "display_data"
    }
   ],
   "source": [
    "#plot percentage of love stories over the years\n",
    "sns.barplot(x=\"Years\", y=\"Comedy Stories\", data=comedy_df);\n",
    "plt.title('Pecentage of Comedy Scripts By Year')"
   ]
  },
  {
   "cell_type": "markdown",
   "metadata": {
    "collapsed": true
   },
   "source": [
    "# Heist Stories"
   ]
  },
  {
   "cell_type": "code",
   "execution_count": 94,
   "metadata": {},
   "outputs": [
    {
     "data": {
      "text/plain": [
       "4.619225967540574"
      ]
     },
     "execution_count": 94,
     "metadata": {},
     "output_type": "execute_result"
    }
   ],
   "source": [
    "#import count function\n",
    "from collections import Counter\n",
    "\n",
    "#create list of words I want to seach for comedy descriptions\n",
    "heist = ['bank', 'rob', 'heist', 'mob']\n",
    "#create lists to hold found lists of movies\n",
    "#Years = []\n",
    "Title = []\n",
    "#iterate throught the length of the dataframe\n",
    "for i in range(len(df)):\n",
    "#iterate through the list of heist words\n",
    "    for r in heist:\n",
    "#iterate through the series of descriptions\n",
    "        if r in df.Description.iloc[i]:\n",
    "\n",
    "#append the titles of movies to the locked index\n",
    "            #Years.append(df.Year.iloc[i])\n",
    "            Title.append(df.Title.iloc[i])\n",
    "#Counter(Years)\n",
    "#divide the length of the set list of titles by the full length of movies to find percentage of relationship movies\n",
    "heist_movies = len(list(set(Title)))/float(len(df))*100\n",
    "heist_movies"
   ]
  },
  {
   "cell_type": "code",
   "execution_count": 95,
   "metadata": {},
   "outputs": [
    {
     "data": {
      "text/plain": [
       "[1, 9, 2, 2, 5, 2, 3, 3, 8, 2]"
      ]
     },
     "execution_count": 95,
     "metadata": {},
     "output_type": "execute_result"
    }
   ],
   "source": [
    "#create list to hold the number of movies by year\n",
    "mega_list5 = []\n",
    "#iterate through the unique years\n",
    "for i in df.Year.unique(): \n",
    "#create a list to hold the number of movies temporarily by individual year\n",
    "    super_list5 = []\n",
    "#iterate through the unique years\n",
    "    for f in range(len(df[df.Year == i])): \n",
    "#find the relationship movies in the unique years\n",
    "        for r in heist: \n",
    "#if the heist words are in the description lock the result to the index\n",
    "            if r in df[df.Year == i].Description.iloc[f]:\n",
    "\n",
    "#lock each individual super list to the the index\n",
    "                super_list5.append(df[df.Year == i].Title.iloc[f])\n",
    "#append the super lists counts to the mega list\n",
    "    mega_list5.append(len(set(super_list5)))\n",
    "mega_list5"
   ]
  },
  {
   "cell_type": "code",
   "execution_count": 96,
   "metadata": {},
   "outputs": [
    {
     "data": {
      "text/html": [
       "<div>\n",
       "<style>\n",
       "    .dataframe thead tr:only-child th {\n",
       "        text-align: right;\n",
       "    }\n",
       "\n",
       "    .dataframe thead th {\n",
       "        text-align: left;\n",
       "    }\n",
       "\n",
       "    .dataframe tbody tr th {\n",
       "        vertical-align: top;\n",
       "    }\n",
       "</style>\n",
       "<table border=\"1\" class=\"dataframe\">\n",
       "  <thead>\n",
       "    <tr style=\"text-align: right;\">\n",
       "      <th></th>\n",
       "      <th>Years</th>\n",
       "      <th>Heist count</th>\n",
       "      <th>Total count</th>\n",
       "    </tr>\n",
       "  </thead>\n",
       "  <tbody>\n",
       "    <tr>\n",
       "      <th>0</th>\n",
       "      <td>2008</td>\n",
       "      <td>3</td>\n",
       "      <td>105</td>\n",
       "    </tr>\n",
       "    <tr>\n",
       "      <th>1</th>\n",
       "      <td>2009</td>\n",
       "      <td>5</td>\n",
       "      <td>97</td>\n",
       "    </tr>\n",
       "    <tr>\n",
       "      <th>2</th>\n",
       "      <td>2010</td>\n",
       "      <td>2</td>\n",
       "      <td>76</td>\n",
       "    </tr>\n",
       "    <tr>\n",
       "      <th>3</th>\n",
       "      <td>2011</td>\n",
       "      <td>1</td>\n",
       "      <td>73</td>\n",
       "    </tr>\n",
       "    <tr>\n",
       "      <th>4</th>\n",
       "      <td>2012</td>\n",
       "      <td>0</td>\n",
       "      <td>78</td>\n",
       "    </tr>\n",
       "    <tr>\n",
       "      <th>5</th>\n",
       "      <td>2013</td>\n",
       "      <td>1</td>\n",
       "      <td>72</td>\n",
       "    </tr>\n",
       "    <tr>\n",
       "      <th>6</th>\n",
       "      <td>2014</td>\n",
       "      <td>1</td>\n",
       "      <td>70</td>\n",
       "    </tr>\n",
       "    <tr>\n",
       "      <th>7</th>\n",
       "      <td>2015</td>\n",
       "      <td>0</td>\n",
       "      <td>81</td>\n",
       "    </tr>\n",
       "    <tr>\n",
       "      <th>8</th>\n",
       "      <td>2016</td>\n",
       "      <td>1</td>\n",
       "      <td>73</td>\n",
       "    </tr>\n",
       "    <tr>\n",
       "      <th>9</th>\n",
       "      <td>2017</td>\n",
       "      <td>0</td>\n",
       "      <td>76</td>\n",
       "    </tr>\n",
       "  </tbody>\n",
       "</table>\n",
       "</div>"
      ],
      "text/plain": [
       "   Years  Heist count  Total count\n",
       "0   2008            3          105\n",
       "1   2009            5           97\n",
       "2   2010            2           76\n",
       "3   2011            1           73\n",
       "4   2012            0           78\n",
       "5   2013            1           72\n",
       "6   2014            1           70\n",
       "7   2015            0           81\n",
       "8   2016            1           73\n",
       "9   2017            0           76"
      ]
     },
     "execution_count": 96,
     "metadata": {},
     "output_type": "execute_result"
    }
   ],
   "source": [
    "#create a data frame of the three lists\n",
    "heist_df = pd.DataFrame({'Years' : years_date,\n",
    " 'Heist count' : mega_list4,\n",
    " 'Total count':years\n",
    "  }, columns=['Years','Heist count', 'Total count'])\n",
    "heist_df"
   ]
  },
  {
   "cell_type": "code",
   "execution_count": 97,
   "metadata": {},
   "outputs": [
    {
     "data": {
      "text/html": [
       "<div>\n",
       "<style>\n",
       "    .dataframe thead tr:only-child th {\n",
       "        text-align: right;\n",
       "    }\n",
       "\n",
       "    .dataframe thead th {\n",
       "        text-align: left;\n",
       "    }\n",
       "\n",
       "    .dataframe tbody tr th {\n",
       "        vertical-align: top;\n",
       "    }\n",
       "</style>\n",
       "<table border=\"1\" class=\"dataframe\">\n",
       "  <thead>\n",
       "    <tr style=\"text-align: right;\">\n",
       "      <th></th>\n",
       "      <th>Years</th>\n",
       "      <th>Heist count</th>\n",
       "      <th>Total count</th>\n",
       "      <th>Heist Stories</th>\n",
       "    </tr>\n",
       "  </thead>\n",
       "  <tbody>\n",
       "    <tr>\n",
       "      <th>0</th>\n",
       "      <td>2008</td>\n",
       "      <td>3</td>\n",
       "      <td>105</td>\n",
       "      <td>2.857143</td>\n",
       "    </tr>\n",
       "    <tr>\n",
       "      <th>1</th>\n",
       "      <td>2009</td>\n",
       "      <td>5</td>\n",
       "      <td>97</td>\n",
       "      <td>5.154639</td>\n",
       "    </tr>\n",
       "    <tr>\n",
       "      <th>2</th>\n",
       "      <td>2010</td>\n",
       "      <td>2</td>\n",
       "      <td>76</td>\n",
       "      <td>2.631579</td>\n",
       "    </tr>\n",
       "    <tr>\n",
       "      <th>3</th>\n",
       "      <td>2011</td>\n",
       "      <td>1</td>\n",
       "      <td>73</td>\n",
       "      <td>1.369863</td>\n",
       "    </tr>\n",
       "    <tr>\n",
       "      <th>4</th>\n",
       "      <td>2012</td>\n",
       "      <td>0</td>\n",
       "      <td>78</td>\n",
       "      <td>0.000000</td>\n",
       "    </tr>\n",
       "    <tr>\n",
       "      <th>5</th>\n",
       "      <td>2013</td>\n",
       "      <td>1</td>\n",
       "      <td>72</td>\n",
       "      <td>1.388889</td>\n",
       "    </tr>\n",
       "    <tr>\n",
       "      <th>6</th>\n",
       "      <td>2014</td>\n",
       "      <td>1</td>\n",
       "      <td>70</td>\n",
       "      <td>1.428571</td>\n",
       "    </tr>\n",
       "    <tr>\n",
       "      <th>7</th>\n",
       "      <td>2015</td>\n",
       "      <td>0</td>\n",
       "      <td>81</td>\n",
       "      <td>0.000000</td>\n",
       "    </tr>\n",
       "    <tr>\n",
       "      <th>8</th>\n",
       "      <td>2016</td>\n",
       "      <td>1</td>\n",
       "      <td>73</td>\n",
       "      <td>1.369863</td>\n",
       "    </tr>\n",
       "    <tr>\n",
       "      <th>9</th>\n",
       "      <td>2017</td>\n",
       "      <td>0</td>\n",
       "      <td>76</td>\n",
       "      <td>0.000000</td>\n",
       "    </tr>\n",
       "  </tbody>\n",
       "</table>\n",
       "</div>"
      ],
      "text/plain": [
       "   Years  Heist count  Total count  Heist Stories\n",
       "0   2008            3          105       2.857143\n",
       "1   2009            5           97       5.154639\n",
       "2   2010            2           76       2.631579\n",
       "3   2011            1           73       1.369863\n",
       "4   2012            0           78       0.000000\n",
       "5   2013            1           72       1.388889\n",
       "6   2014            1           70       1.428571\n",
       "7   2015            0           81       0.000000\n",
       "8   2016            1           73       1.369863\n",
       "9   2017            0           76       0.000000"
      ]
     },
     "execution_count": 97,
     "metadata": {},
     "output_type": "execute_result"
    }
   ],
   "source": [
    "#calculate the percentage of movies that are romantic by year\n",
    "heist_df['Heist Stories'] = heist_df['Heist count']/heist_df['Total count'] * 100\n",
    "heist_df"
   ]
  },
  {
   "cell_type": "code",
   "execution_count": 98,
   "metadata": {},
   "outputs": [
    {
     "data": {
      "text/plain": [
       "<matplotlib.text.Text at 0x126810b8>"
      ]
     },
     "execution_count": 98,
     "metadata": {},
     "output_type": "execute_result"
    },
    {
     "data": {
      "image/png": "[encoded data removed]",
      "text/plain": [
       "<matplotlib.figure.Figure at 0x917c588>"
      ]
     },
     "metadata": {},
     "output_type": "display_data"
    }
   ],
   "source": [
    "#plot percentage of love stories over the years\n",
    "sns.barplot(x=\"Years\", y=\"Heist Stories\", data=heist_df);\n",
    "plt.title('Pecentage of Heist Scripts By Year')"
   ]
  },
  {
   "cell_type": "markdown",
   "metadata": {},
   "source": [
    "# SciFi Movies"
   ]
  },
  {
   "cell_type": "code",
   "execution_count": 99,
   "metadata": {},
   "outputs": [
    {
     "data": {
      "text/plain": [
       "5.368289637952559"
      ]
     },
     "execution_count": 99,
     "metadata": {},
     "output_type": "execute_result"
    }
   ],
   "source": [
    "#import count function\n",
    "from collections import Counter\n",
    "\n",
    "#create list of words I want to seach for comedy descriptions\n",
    "scifi = ['robot', 'future', 'space', 'alien']\n",
    "#create lists to hold found lists of movies\n",
    "#Years = []\n",
    "Title = []\n",
    "#iterate throught the length of the dataframe\n",
    "for i in range(len(df)):\n",
    "#iterate through the list of scifi words\n",
    "    for r in scifi:\n",
    "#iterate through the series of descriptions\n",
    "        if r in df.Description.iloc[i]:\n",
    "\n",
    "#append the titles of movies to the locked index\n",
    "            #Years.append(df.Year.iloc[i])\n",
    "            Title.append(df.Title.iloc[i])\n",
    "#Counter(Years)\n",
    "#divide the length of the set list of titles by the full length of movies to find percentage of relationship movies\n",
    "scifi_movies = len(list(set(Title)))/float(len(df))*100\n",
    "scifi_movies"
   ]
  },
  {
   "cell_type": "code",
   "execution_count": 100,
   "metadata": {},
   "outputs": [
    {
     "data": {
      "text/plain": [
       "[2, 5, 6, 3, 7, 3, 2, 4, 7, 4]"
      ]
     },
     "execution_count": 100,
     "metadata": {},
     "output_type": "execute_result"
    }
   ],
   "source": [
    "#create list to hold the number of movies by year\n",
    "mega_list6 = []\n",
    "#iterate through the unique years\n",
    "for i in df.Year.unique(): \n",
    "#create a list to hold the number of movies temporarily by individual year\n",
    "    super_list6 = []\n",
    "#iterate through the unique years\n",
    "    for f in range(len(df[df.Year == i])): \n",
    "#find the scifi movies in the unique years\n",
    "        for r in scifi: \n",
    "#if the relationship words are in the description lock the result to the index\n",
    "            if r in df[df.Year == i].Description.iloc[f]:\n",
    "\n",
    "#lock each individual super list to the the index\n",
    "                super_list6.append(df[df.Year == i].Title.iloc[f])\n",
    "#append the super lists counts to the mega list\n",
    "    mega_list6.append(len(set(super_list6)))\n",
    "mega_list6"
   ]
  },
  {
   "cell_type": "code",
   "execution_count": 101,
   "metadata": {},
   "outputs": [
    {
     "data": {
      "text/html": [
       "<div>\n",
       "<style>\n",
       "    .dataframe thead tr:only-child th {\n",
       "        text-align: right;\n",
       "    }\n",
       "\n",
       "    .dataframe thead th {\n",
       "        text-align: left;\n",
       "    }\n",
       "\n",
       "    .dataframe tbody tr th {\n",
       "        vertical-align: top;\n",
       "    }\n",
       "</style>\n",
       "<table border=\"1\" class=\"dataframe\">\n",
       "  <thead>\n",
       "    <tr style=\"text-align: right;\">\n",
       "      <th></th>\n",
       "      <th>Years</th>\n",
       "      <th>Scifi count</th>\n",
       "      <th>Total count</th>\n",
       "    </tr>\n",
       "  </thead>\n",
       "  <tbody>\n",
       "    <tr>\n",
       "      <th>0</th>\n",
       "      <td>2008</td>\n",
       "      <td>2</td>\n",
       "      <td>105</td>\n",
       "    </tr>\n",
       "    <tr>\n",
       "      <th>1</th>\n",
       "      <td>2009</td>\n",
       "      <td>5</td>\n",
       "      <td>97</td>\n",
       "    </tr>\n",
       "    <tr>\n",
       "      <th>2</th>\n",
       "      <td>2010</td>\n",
       "      <td>6</td>\n",
       "      <td>76</td>\n",
       "    </tr>\n",
       "    <tr>\n",
       "      <th>3</th>\n",
       "      <td>2011</td>\n",
       "      <td>3</td>\n",
       "      <td>73</td>\n",
       "    </tr>\n",
       "    <tr>\n",
       "      <th>4</th>\n",
       "      <td>2012</td>\n",
       "      <td>7</td>\n",
       "      <td>78</td>\n",
       "    </tr>\n",
       "    <tr>\n",
       "      <th>5</th>\n",
       "      <td>2013</td>\n",
       "      <td>3</td>\n",
       "      <td>72</td>\n",
       "    </tr>\n",
       "    <tr>\n",
       "      <th>6</th>\n",
       "      <td>2014</td>\n",
       "      <td>2</td>\n",
       "      <td>70</td>\n",
       "    </tr>\n",
       "    <tr>\n",
       "      <th>7</th>\n",
       "      <td>2015</td>\n",
       "      <td>4</td>\n",
       "      <td>81</td>\n",
       "    </tr>\n",
       "    <tr>\n",
       "      <th>8</th>\n",
       "      <td>2016</td>\n",
       "      <td>7</td>\n",
       "      <td>73</td>\n",
       "    </tr>\n",
       "    <tr>\n",
       "      <th>9</th>\n",
       "      <td>2017</td>\n",
       "      <td>4</td>\n",
       "      <td>76</td>\n",
       "    </tr>\n",
       "  </tbody>\n",
       "</table>\n",
       "</div>"
      ],
      "text/plain": [
       "   Years  Scifi count  Total count\n",
       "0   2008            2          105\n",
       "1   2009            5           97\n",
       "2   2010            6           76\n",
       "3   2011            3           73\n",
       "4   2012            7           78\n",
       "5   2013            3           72\n",
       "6   2014            2           70\n",
       "7   2015            4           81\n",
       "8   2016            7           73\n",
       "9   2017            4           76"
      ]
     },
     "execution_count": 101,
     "metadata": {},
     "output_type": "execute_result"
    }
   ],
   "source": [
    "#create a data frame of the three lists\n",
    "scifi_df = pd.DataFrame({'Years' : years_date,\n",
    " 'Scifi count' : mega_list6,\n",
    " 'Total count':years\n",
    "  }, columns=['Years','Scifi count', 'Total count'])\n",
    "scifi_df"
   ]
  },
  {
   "cell_type": "code",
   "execution_count": 102,
   "metadata": {},
   "outputs": [
    {
     "data": {
      "text/html": [
       "<div>\n",
       "<style>\n",
       "    .dataframe thead tr:only-child th {\n",
       "        text-align: right;\n",
       "    }\n",
       "\n",
       "    .dataframe thead th {\n",
       "        text-align: left;\n",
       "    }\n",
       "\n",
       "    .dataframe tbody tr th {\n",
       "        vertical-align: top;\n",
       "    }\n",
       "</style>\n",
       "<table border=\"1\" class=\"dataframe\">\n",
       "  <thead>\n",
       "    <tr style=\"text-align: right;\">\n",
       "      <th></th>\n",
       "      <th>Years</th>\n",
       "      <th>Scifi count</th>\n",
       "      <th>Total count</th>\n",
       "      <th>Scifi Stories</th>\n",
       "    </tr>\n",
       "  </thead>\n",
       "  <tbody>\n",
       "    <tr>\n",
       "      <th>0</th>\n",
       "      <td>2008</td>\n",
       "      <td>2</td>\n",
       "      <td>105</td>\n",
       "      <td>1.904762</td>\n",
       "    </tr>\n",
       "    <tr>\n",
       "      <th>1</th>\n",
       "      <td>2009</td>\n",
       "      <td>5</td>\n",
       "      <td>97</td>\n",
       "      <td>5.154639</td>\n",
       "    </tr>\n",
       "    <tr>\n",
       "      <th>2</th>\n",
       "      <td>2010</td>\n",
       "      <td>6</td>\n",
       "      <td>76</td>\n",
       "      <td>7.894737</td>\n",
       "    </tr>\n",
       "    <tr>\n",
       "      <th>3</th>\n",
       "      <td>2011</td>\n",
       "      <td>3</td>\n",
       "      <td>73</td>\n",
       "      <td>4.109589</td>\n",
       "    </tr>\n",
       "    <tr>\n",
       "      <th>4</th>\n",
       "      <td>2012</td>\n",
       "      <td>7</td>\n",
       "      <td>78</td>\n",
       "      <td>8.974359</td>\n",
       "    </tr>\n",
       "    <tr>\n",
       "      <th>5</th>\n",
       "      <td>2013</td>\n",
       "      <td>3</td>\n",
       "      <td>72</td>\n",
       "      <td>4.166667</td>\n",
       "    </tr>\n",
       "    <tr>\n",
       "      <th>6</th>\n",
       "      <td>2014</td>\n",
       "      <td>2</td>\n",
       "      <td>70</td>\n",
       "      <td>2.857143</td>\n",
       "    </tr>\n",
       "    <tr>\n",
       "      <th>7</th>\n",
       "      <td>2015</td>\n",
       "      <td>4</td>\n",
       "      <td>81</td>\n",
       "      <td>4.938272</td>\n",
       "    </tr>\n",
       "    <tr>\n",
       "      <th>8</th>\n",
       "      <td>2016</td>\n",
       "      <td>7</td>\n",
       "      <td>73</td>\n",
       "      <td>9.589041</td>\n",
       "    </tr>\n",
       "    <tr>\n",
       "      <th>9</th>\n",
       "      <td>2017</td>\n",
       "      <td>4</td>\n",
       "      <td>76</td>\n",
       "      <td>5.263158</td>\n",
       "    </tr>\n",
       "  </tbody>\n",
       "</table>\n",
       "</div>"
      ],
      "text/plain": [
       "   Years  Scifi count  Total count  Scifi Stories\n",
       "0   2008            2          105       1.904762\n",
       "1   2009            5           97       5.154639\n",
       "2   2010            6           76       7.894737\n",
       "3   2011            3           73       4.109589\n",
       "4   2012            7           78       8.974359\n",
       "5   2013            3           72       4.166667\n",
       "6   2014            2           70       2.857143\n",
       "7   2015            4           81       4.938272\n",
       "8   2016            7           73       9.589041\n",
       "9   2017            4           76       5.263158"
      ]
     },
     "execution_count": 102,
     "metadata": {},
     "output_type": "execute_result"
    }
   ],
   "source": [
    "#calculate the percentage of movies that are romantic by year\n",
    "scifi_df['Scifi Stories'] = scifi_df['Scifi count']/scifi_df['Total count'] * 100\n",
    "scifi_df"
   ]
  },
  {
   "cell_type": "code",
   "execution_count": 103,
   "metadata": {},
   "outputs": [
    {
     "data": {
      "text/plain": [
       "<matplotlib.text.Text at 0x11821470>"
      ]
     },
     "execution_count": 103,
     "metadata": {},
     "output_type": "execute_result"
    },
    {
     "data": {
      "image/png": "[encoded data removed]",
      "text/plain": [
       "<matplotlib.figure.Figure at 0x11a4acc0>"
      ]
     },
     "metadata": {},
     "output_type": "display_data"
    }
   ],
   "source": [
    "#plot percentage of love stories over the years\n",
    "sns.barplot(x=\"Years\", y=\"Scifi Stories\", data=scifi_df);\n",
    "plt.title('Pecentage of Sci-fi Scripts By Year')"
   ]
  },
  {
   "cell_type": "markdown",
   "metadata": {},
   "source": [
    "# All Themes Based on Word Searches"
   ]
  },
  {
   "cell_type": "code",
   "execution_count": 104,
   "metadata": {},
   "outputs": [
    {
     "data": {
      "text/html": [
       "<div>\n",
       "<style>\n",
       "    .dataframe thead tr:only-child th {\n",
       "        text-align: right;\n",
       "    }\n",
       "\n",
       "    .dataframe thead th {\n",
       "        text-align: left;\n",
       "    }\n",
       "\n",
       "    .dataframe tbody tr th {\n",
       "        vertical-align: top;\n",
       "    }\n",
       "</style>\n",
       "<table border=\"1\" class=\"dataframe\">\n",
       "  <thead>\n",
       "    <tr style=\"text-align: right;\">\n",
       "      <th></th>\n",
       "      <th>Themes</th>\n",
       "      <th>percentage</th>\n",
       "    </tr>\n",
       "  </thead>\n",
       "  <tbody>\n",
       "    <tr>\n",
       "      <th>0</th>\n",
       "      <td>Romance</td>\n",
       "      <td>16.729089</td>\n",
       "    </tr>\n",
       "    <tr>\n",
       "      <th>1</th>\n",
       "      <td>True Stories</td>\n",
       "      <td>10.986267</td>\n",
       "    </tr>\n",
       "    <tr>\n",
       "      <th>2</th>\n",
       "      <td>Thrillers</td>\n",
       "      <td>21.348315</td>\n",
       "    </tr>\n",
       "    <tr>\n",
       "      <th>3</th>\n",
       "      <td>War</td>\n",
       "      <td>7.365793</td>\n",
       "    </tr>\n",
       "    <tr>\n",
       "      <th>4</th>\n",
       "      <td>Comedy</td>\n",
       "      <td>1.747815</td>\n",
       "    </tr>\n",
       "    <tr>\n",
       "      <th>5</th>\n",
       "      <td>Heist</td>\n",
       "      <td>4.619226</td>\n",
       "    </tr>\n",
       "    <tr>\n",
       "      <th>6</th>\n",
       "      <td>Sci-Fi</td>\n",
       "      <td>5.368290</td>\n",
       "    </tr>\n",
       "  </tbody>\n",
       "</table>\n",
       "</div>"
      ],
      "text/plain": [
       "         Themes  percentage\n",
       "0       Romance   16.729089\n",
       "1  True Stories   10.986267\n",
       "2     Thrillers   21.348315\n",
       "3           War    7.365793\n",
       "4        Comedy    1.747815\n",
       "5         Heist    4.619226\n",
       "6        Sci-Fi    5.368290"
      ]
     },
     "execution_count": 104,
     "metadata": {},
     "output_type": "execute_result"
    }
   ],
   "source": [
    "#Put all of the theme outcomes over the 10 years into a data frame\n",
    "\n",
    "Themes_all= {'Themes': ['Romance', 'True Stories', 'Thrillers', 'War', 'Comedy', 'Heist', 'Sci-Fi'],'percentage': [rela_movies, true_movies, thriller_movies, war_movies, comedy_movies, heist_movies, scifi_movies]}\n",
    "Themes_df = pd.DataFrame(data=Themes_all)\n",
    "Themes_df"
   ]
  },
  {
   "cell_type": "code",
   "execution_count": 105,
   "metadata": {},
   "outputs": [
    {
     "data": {
      "text/plain": [
       "<matplotlib.text.Text at 0x117ccc50>"
      ]
     },
     "execution_count": 105,
     "metadata": {},
     "output_type": "execute_result"
    },
    {
     "data": {
      "image/png": "[encoded data removed]",
      "text/plain": [
       "<matplotlib.figure.Figure at 0x11b906a0>"
      ]
     },
     "metadata": {},
     "output_type": "display_data"
    }
   ],
   "source": [
    "#plot percentage of love stories over the years\n",
    "sns.barplot(x=\"percentage\", y=\"Themes\", data=Themes_df);\n",
    "plt.title('Pecentage of Sci-fi Scripts By Year')"
   ]
  },
  {
   "cell_type": "markdown",
   "metadata": {},
   "source": [
    "Searching descriptions for words is not the most effective way to account for all themes."
   ]
  },
  {
   "cell_type": "code",
   "execution_count": 106,
   "metadata": {},
   "outputs": [
    {
     "name": "stdout",
     "output_type": "stream",
     "text": [
      "Movies accounted for through search function: 68.1647940075 %\n"
     ]
    }
   ],
   "source": [
    "#Total percentage of movies accounted for with word search\n",
    "Total = sum(Themes_df.percentage)\n",
    "print 'Movies accounted for through search function:', Total, '%'"
   ]
  },
  {
   "cell_type": "markdown",
   "metadata": {},
   "source": [
    "# Movies Produced (wikipedia)"
   ]
  },
  {
   "cell_type": "markdown",
   "metadata": {},
   "source": [
    "I've imported a list of movies that have been produced from the BlackList Wikipedia page. I want to see if there are any trends in how many movies have been produced since 2008, but I'm finding that Wikipedia is not the best resource for finding accurate information. lol. My findings suggest the Black List wikipedia peaked in 2010."
   ]
  },
  {
   "cell_type": "code",
   "execution_count": 109,
   "metadata": {
    "collapsed": true
   },
   "outputs": [],
   "source": [
    "#Create SQLite connection to the database of Black list movies that were produced from wikipedia\n",
    "database = \"BlackListProduced.db\"\n",
    "connection = sql.connect(database)"
   ]
  },
  {
   "cell_type": "code",
   "execution_count": 110,
   "metadata": {},
   "outputs": [
    {
     "data": {
      "text/html": [
       "<div>\n",
       "<style>\n",
       "    .dataframe thead tr:only-child th {\n",
       "        text-align: right;\n",
       "    }\n",
       "\n",
       "    .dataframe thead th {\n",
       "        text-align: left;\n",
       "    }\n",
       "\n",
       "    .dataframe tbody tr th {\n",
       "        vertical-align: top;\n",
       "    }\n",
       "</style>\n",
       "<table border=\"1\" class=\"dataframe\">\n",
       "  <thead>\n",
       "    <tr style=\"text-align: right;\">\n",
       "      <th></th>\n",
       "      <th>Year</th>\n",
       "      <th>Title</th>\n",
       "    </tr>\n",
       "  </thead>\n",
       "  <tbody>\n",
       "    <tr>\n",
       "      <th>0</th>\n",
       "      <td>2008</td>\n",
       "      <td>47 Ronin</td>\n",
       "    </tr>\n",
       "    <tr>\n",
       "      <th>1</th>\n",
       "      <td>2008</td>\n",
       "      <td>50/50</td>\n",
       "    </tr>\n",
       "    <tr>\n",
       "      <th>2</th>\n",
       "      <td>2008</td>\n",
       "      <td>A.C.O.D.</td>\n",
       "    </tr>\n",
       "    <tr>\n",
       "      <th>3</th>\n",
       "      <td>2008</td>\n",
       "      <td>All I Wish</td>\n",
       "    </tr>\n",
       "    <tr>\n",
       "      <th>4</th>\n",
       "      <td>2008</td>\n",
       "      <td>Bachelorette</td>\n",
       "    </tr>\n",
       "  </tbody>\n",
       "</table>\n",
       "</div>"
      ],
      "text/plain": [
       "   Year         Title\n",
       "0  2008      47 Ronin\n",
       "1  2008         50/50\n",
       "2  2008      A.C.O.D.\n",
       "3  2008    All I Wish\n",
       "4  2008  Bachelorette"
      ]
     },
     "execution_count": 110,
     "metadata": {},
     "output_type": "execute_result"
    }
   ],
   "source": [
    "#Create SQL query to union all data.\n",
    "\n",
    "query1 = '''SELECT * FROM BlackList_Produced\n",
    "'''\n",
    "df1 = pd.read_sql_query(query1, connection)\n",
    "df1.head()"
   ]
  },
  {
   "cell_type": "code",
   "execution_count": 111,
   "metadata": {
    "collapsed": true
   },
   "outputs": [],
   "source": [
    "#create a function to find the percentage of movies that have been made by year\n",
    "def calc_Grate(df, column, id):\n",
    "    num_movies = df[df[column] == id].shape[0]\n",
    "    num_made = df1[df1[column] == id].shape[0]\n",
    "    return num_made / float(num_movies) * 100"
   ]
  },
  {
   "cell_type": "code",
   "execution_count": 112,
   "metadata": {},
   "outputs": [
    {
     "data": {
      "text/plain": [
       "(0, 100)"
      ]
     },
     "execution_count": 112,
     "metadata": {},
     "output_type": "execute_result"
    },
    {
     "data": {
      "image/png": "[encoded data removed]",
      "text/plain": [
       "<matplotlib.figure.Figure at 0x115d20b8>"
      ]
     },
     "metadata": {},
     "output_type": "display_data"
    }
   ],
   "source": [
    "#create open list to get percentage of movies with financing\n",
    "movies_made = []\n",
    "\n",
    "#run loop to look for unique unique titles that were made\n",
    "for num_made in df.Year.unique():\n",
    "\n",
    "#append new list to the list of unique values\n",
    "    movies_made.append(pd.DataFrame([[num_made, calc_Grate(df, 'Year', num_made)]],columns = ['Year','movies_made']))\n",
    "\n",
    "#create data frame for the financing information    \n",
    "percentage_made = pd.concat(movies_made)\n",
    "\n",
    "sns.pointplot(\n",
    "    x='Year',\n",
    "    y='movies_made',\n",
    "    data=percentage_made,\n",
    ").set_title('The Black List Wikipage peaked in 2010')\n",
    "\n",
    "plt.ylim(0, 100)"
   ]
  },
  {
   "cell_type": "markdown",
   "metadata": {},
   "source": [
    "# Actual Genres and Themes of Scripts"
   ]
  },
  {
   "cell_type": "markdown",
   "metadata": {},
   "source": [
    "This data set has the movie genres included so we can compare out searches to the actual data."
   ]
  },
  {
   "cell_type": "code",
   "execution_count": 113,
   "metadata": {
    "collapsed": true
   },
   "outputs": [],
   "source": [
    "#Create SQLite connection to the database I made\n",
    "database = \"BlackList_Themes.db\"\n",
    "connection = sql.connect(database)"
   ]
  },
  {
   "cell_type": "code",
   "execution_count": 114,
   "metadata": {
    "scrolled": true
   },
   "outputs": [
    {
     "data": {
      "text/html": [
       "<div>\n",
       "<style>\n",
       "    .dataframe thead tr:only-child th {\n",
       "        text-align: right;\n",
       "    }\n",
       "\n",
       "    .dataframe thead th {\n",
       "        text-align: left;\n",
       "    }\n",
       "\n",
       "    .dataframe tbody tr th {\n",
       "        vertical-align: top;\n",
       "    }\n",
       "</style>\n",
       "<table border=\"1\" class=\"dataframe\">\n",
       "  <thead>\n",
       "    <tr style=\"text-align: right;\">\n",
       "      <th></th>\n",
       "      <th>Year</th>\n",
       "      <th>Number_of_Votes</th>\n",
       "      <th>Title</th>\n",
       "      <th>Theme</th>\n",
       "      <th>Description</th>\n",
       "      <th>Screenwriter</th>\n",
       "      <th>Gender</th>\n",
       "      <th>Agency</th>\n",
       "      <th>Agents</th>\n",
       "      <th>Management</th>\n",
       "      <th>Managers</th>\n",
       "      <th>Producer</th>\n",
       "      <th>Financier</th>\n",
       "    </tr>\n",
       "  </thead>\n",
       "  <tbody>\n",
       "    <tr>\n",
       "      <th>0</th>\n",
       "      <td>2008</td>\n",
       "      <td>67</td>\n",
       "      <td>THE BEAVER</td>\n",
       "      <td>Comedy</td>\n",
       "      <td>Walter Black, a depressed toy manufacturer, lo...</td>\n",
       "      <td>Kyle Killen</td>\n",
       "      <td>M</td>\n",
       "      <td>WME</td>\n",
       "      <td>Cliff Roberts</td>\n",
       "      <td>Anonymous Content</td>\n",
       "      <td>Keith Redmon</td>\n",
       "      <td>Anonymous Content</td>\n",
       "      <td></td>\n",
       "    </tr>\n",
       "    <tr>\n",
       "      <th>1</th>\n",
       "      <td>2008</td>\n",
       "      <td>61</td>\n",
       "      <td>THE ORANGES</td>\n",
       "      <td>Romance</td>\n",
       "      <td>Two New Jersey families are thrown into comic ...</td>\n",
       "      <td>Jay Reiss &amp; Ian Helfer</td>\n",
       "      <td>M</td>\n",
       "      <td>CAA, Gersh</td>\n",
       "      <td>Spencer Baumgarten, Greg McKnight, Jessica Mat...</td>\n",
       "      <td>Mosaic Media Group, Principal Entertainment</td>\n",
       "      <td>Paul Nelson, Jimmy Miller, Ilan Breil, Danny S...</td>\n",
       "      <td>A Likely Story</td>\n",
       "      <td>Media Rights Capital</td>\n",
       "    </tr>\n",
       "    <tr>\n",
       "      <th>2</th>\n",
       "      <td>2008</td>\n",
       "      <td>44</td>\n",
       "      <td>BUTTER</td>\n",
       "      <td>Comedy</td>\n",
       "      <td>Destiny, a black foster child, faces off again...</td>\n",
       "      <td>Jason Micallef</td>\n",
       "      <td>M</td>\n",
       "      <td>Endeavor</td>\n",
       "      <td>Phil D’amecourt, Rich Cook</td>\n",
       "      <td>Washington Square Arts</td>\n",
       "      <td>Josh McGuire</td>\n",
       "      <td>Michael De Luca</td>\n",
       "      <td></td>\n",
       "    </tr>\n",
       "    <tr>\n",
       "      <th>3</th>\n",
       "      <td>2008</td>\n",
       "      <td>42</td>\n",
       "      <td>BIG HOLE</td>\n",
       "      <td>Western</td>\n",
       "      <td>Lee, an old, grumpy ex-cowboy, loses $30,000 t...</td>\n",
       "      <td>Michael Gilio</td>\n",
       "      <td>M</td>\n",
       "      <td>UTA</td>\n",
       "      <td>Julien Thuan</td>\n",
       "      <td>Industry Entertainment</td>\n",
       "      <td>Eryn Brown</td>\n",
       "      <td>Aversano Films</td>\n",
       "      <td></td>\n",
       "    </tr>\n",
       "    <tr>\n",
       "      <th>4</th>\n",
       "      <td>2008</td>\n",
       "      <td>40</td>\n",
       "      <td>THE LOW DWELLER</td>\n",
       "      <td>Thriller/Horror</td>\n",
       "      <td>Charlie “Slim” Hendrick, a don’t-eff-with-me e...</td>\n",
       "      <td>Brad Ingels</td>\n",
       "      <td>M</td>\n",
       "      <td>WME</td>\n",
       "      <td>Mike Esola, Rob Carlson</td>\n",
       "      <td>Energy Entertainment</td>\n",
       "      <td>Brooklyn Weaver, Adam Marshall</td>\n",
       "      <td>Scott Free Productions, Energy Entertainment, ...</td>\n",
       "      <td>Relativity</td>\n",
       "    </tr>\n",
       "  </tbody>\n",
       "</table>\n",
       "</div>"
      ],
      "text/plain": [
       "   Year Number_of_Votes            Title            Theme  \\\n",
       "0  2008              67       THE BEAVER           Comedy   \n",
       "1  2008              61      THE ORANGES          Romance   \n",
       "2  2008              44           BUTTER           Comedy   \n",
       "3  2008              42         BIG HOLE          Western   \n",
       "4  2008              40  THE LOW DWELLER  Thriller/Horror   \n",
       "\n",
       "                                         Description            Screenwriter  \\\n",
       "0  Walter Black, a depressed toy manufacturer, lo...             Kyle Killen   \n",
       "1  Two New Jersey families are thrown into comic ...  Jay Reiss & Ian Helfer   \n",
       "2  Destiny, a black foster child, faces off again...          Jason Micallef   \n",
       "3  Lee, an old, grumpy ex-cowboy, loses $30,000 t...           Michael Gilio   \n",
       "4  Charlie “Slim” Hendrick, a don’t-eff-with-me e...             Brad Ingels   \n",
       "\n",
       "  Gender      Agency                                             Agents  \\\n",
       "0      M         WME                                      Cliff Roberts   \n",
       "1      M  CAA, Gersh  Spencer Baumgarten, Greg McKnight, Jessica Mat...   \n",
       "2      M    Endeavor                         Phil D’amecourt, Rich Cook   \n",
       "3      M         UTA                                       Julien Thuan   \n",
       "4      M         WME                            Mike Esola, Rob Carlson   \n",
       "\n",
       "                                    Management  \\\n",
       "0                            Anonymous Content   \n",
       "1  Mosaic Media Group, Principal Entertainment   \n",
       "2                       Washington Square Arts   \n",
       "3                       Industry Entertainment   \n",
       "4                         Energy Entertainment   \n",
       "\n",
       "                                            Managers  \\\n",
       "0                                       Keith Redmon   \n",
       "1  Paul Nelson, Jimmy Miller, Ilan Breil, Danny S...   \n",
       "2                                       Josh McGuire   \n",
       "3                                         Eryn Brown   \n",
       "4                     Brooklyn Weaver, Adam Marshall   \n",
       "\n",
       "                                            Producer             Financier  \n",
       "0                                  Anonymous Content                        \n",
       "1                                     A Likely Story  Media Rights Capital  \n",
       "2                                    Michael De Luca                        \n",
       "3                                     Aversano Films                        \n",
       "4  Scott Free Productions, Energy Entertainment, ...            Relativity  "
      ]
     },
     "execution_count": 114,
     "metadata": {},
     "output_type": "execute_result"
    }
   ],
   "source": [
    "#Create SQL query to union all data.\n",
    "\n",
    "query2 = '''SELECT * FROM BlackList_Themes\n",
    "'''\n",
    "df2 = pd.read_sql_query(query2, connection)\n",
    "df2.head()"
   ]
  },
  {
   "cell_type": "code",
   "execution_count": 115,
   "metadata": {
    "collapsed": true
   },
   "outputs": [],
   "source": [
    "#create a function to find the percentage of movies themes\n",
    "def calc_Grate(df, column, id):\n",
    "    num_categories = df2[df2[column] == id].shape[0]\n",
    "    return num_categories / float(len(df2)) * 100"
   ]
  },
  {
   "cell_type": "code",
   "execution_count": 116,
   "metadata": {},
   "outputs": [
    {
     "data": {
      "text/plain": [
       "(-1, 9)"
      ]
     },
     "execution_count": 116,
     "metadata": {},
     "output_type": "execute_result"
    },
    {
     "data": {
      "image/png": "[encoded data removed]",
      "text/plain": [
       "<matplotlib.figure.Figure at 0x115d2048>"
      ]
     },
     "metadata": {},
     "output_type": "display_data"
    }
   ],
   "source": [
    "#create open list to get percentage of movies with financing\n",
    "genre_rates = []\n",
    "\n",
    "#run loop to look for unique theme values\n",
    "for num_categories in df2.Theme.unique():\n",
    "\n",
    "#append new list to the list of unique values\n",
    "    genre_rates.append(pd.DataFrame([[num_categories, calc_Grate(df2, 'Theme', num_categories)]],columns = ['Theme','genre_rates']))\n",
    "\n",
    "#create data frame for the genre information    \n",
    "percentage_genre = pd.concat(genre_rates)\n",
    "\n",
    "sns.barplot(\n",
    "    x='genre_rates',\n",
    "    y='Theme',\n",
    "    data=percentage_genre\n",
    ").set_title('Percentage of Black List Categories')\n",
    "\n",
    "plt.ylim(-1,9)"
   ]
  },
  {
   "cell_type": "markdown",
   "metadata": {},
   "source": [
    "# Trends SciKit-Learn Found"
   ]
  },
  {
   "cell_type": "code",
   "execution_count": 117,
   "metadata": {},
   "outputs": [
    {
     "name": "stderr",
     "output_type": "stream",
     "text": [
      "C:\\Users\\Demo\\Anaconda2\\lib\\site-packages\\sklearn\\decomposition\\online_lda.py:294: DeprecationWarning: n_topics has been renamed to n_components in version 0.19 and will be removed in 0.21\n",
      "  DeprecationWarning)\n"
     ]
    },
    {
     "name": "stdout",
     "output_type": "stream",
     "text": [
      "('Topic:', 0)\n",
      "story true based world war events united book love states\n",
      "('Topic:', 1)\n",
      "young man life family woman old girl year father love\n",
      "('Topic:', 0)\n",
      "story true based world year war life old high school\n",
      "('Topic:', 1)\n",
      "man young woman family new life father wife save finds\n"
     ]
    }
   ],
   "source": [
    "### opic modeling is similar to the clustering analysis, but with text data\n",
    "#The point of this exerecise is to see what words python finds relative to one another\n",
    "\n",
    "\n",
    "from sklearn.feature_extraction.text import TfidfVectorizer, CountVectorizer\n",
    "\n",
    "no_features = 100\n",
    "\n",
    "documents = df2['Description'].dropna()\n",
    "\n",
    "tfidf_vectorizer = TfidfVectorizer(max_df=0.95, min_df=2, max_features=no_features, stop_words='english')\n",
    "tfidf = tfidf_vectorizer.fit_transform(documents)\n",
    "tfidf_feature_names = tfidf_vectorizer.get_feature_names()\n",
    "\n",
    "tf_vectorizer = CountVectorizer(max_df=0.95, min_df=2, max_features=no_features, stop_words='english')\n",
    "tf = tf_vectorizer.fit_transform(documents)\n",
    "tf_feature_names = tf_vectorizer.get_feature_names()\n",
    "\n",
    "from sklearn.decomposition import NMF, LatentDirichletAllocation\n",
    "\n",
    "no_topics = 2\n",
    "\n",
    "nmf = NMF(n_components=no_topics, random_state=1, alpha=.1, l1_ratio=.5, init='nndsvd').fit(tfidf)\n",
    "\n",
    "lda = LatentDirichletAllocation(n_topics=no_topics, max_iter=5, learning_method='online', learning_offset=50.,random_state=0).fit(tf)\n",
    "\n",
    "def display_topics(model, feature_names, no_top_words):\n",
    "    for topic_idx, topic in enumerate(model.components_):\n",
    "        print (\"Topic:\",topic_idx)\n",
    "        print (\" \".join([feature_names[i]\n",
    "                        for i in topic.argsort()[:-no_top_words - 1:-1]]))\n",
    "\n",
    "no_top_words = 10\n",
    "display_topics(nmf, tfidf_feature_names, no_top_words)\n",
    "display_topics(lda, tf_feature_names, no_top_words)"
   ]
  },
  {
   "cell_type": "markdown",
   "metadata": {},
   "source": [
    "# Will these word clusters find a higher percentage of movie titles?"
   ]
  },
  {
   "cell_type": "code",
   "execution_count": 118,
   "metadata": {},
   "outputs": [
    {
     "data": {
      "text/plain": [
       "80.27465667915106"
      ]
     },
     "execution_count": 118,
     "metadata": {},
     "output_type": "execute_result"
    }
   ],
   "source": [
    "#import count function\n",
    "from collections import Counter\n",
    "\n",
    "#create list of words python clustered\n",
    "scikit = ['story', 'true', 'based', 'world', 'war', 'events', 'united', 'book', 'love', 'states', 'young', 'man', 'life', 'family', 'woman', 'old', 'girl', 'year', 'father', 'high', 'school', 'new', 'save', 'finds']\n",
    "#create lists to hold found lists of movies\n",
    "#Years = []\n",
    "Title = []\n",
    "#iterate throught the length of the dataframe\n",
    "for i in range(len(df)):\n",
    "#iterate through the list of relationship words\n",
    "    for r in scikit:\n",
    "#iterate through the series of descriptions\n",
    "        if r in df.Description.iloc[i]:\n",
    "\n",
    "#append the titles of movies to the locked index\n",
    "            #Years.append(df.Year.iloc[i])\n",
    "            Title.append(df.Title.iloc[i])\n",
    "#Counter(Years)\n",
    "#divide the length of the set list of titles by the full length of movies to find percentage of relationship movies\n",
    "scikit_movies = len(list(set(Title)))/float(len(df))*100\n",
    "scikit_movies"
   ]
  },
  {
   "cell_type": "markdown",
   "metadata": {},
   "source": [
    "This set of words is more effective at finding movie titles than all of our word searches put together. Unfortunately, there isn't anything distinctive about a category or genre they might belong to."
   ]
  },
  {
   "cell_type": "code",
   "execution_count": 119,
   "metadata": {},
   "outputs": [
    {
     "name": "stderr",
     "output_type": "stream",
     "text": [
      "C:\\Users\\Demo\\Anaconda2\\lib\\site-packages\\sklearn\\decomposition\\online_lda.py:294: DeprecationWarning: n_topics has been renamed to n_components in version 0.19 and will be removed in 0.21\n",
      "  DeprecationWarning)\n"
     ]
    },
    {
     "name": "stdout",
     "output_type": "stream",
     "text": [
      "('Topic:', 0)\n",
      "life old young year man\n",
      "('Topic:', 1)\n",
      "story true based world war\n",
      "('Topic:', 0)\n",
      "family man young woman wife\n",
      "('Topic:', 1)\n",
      "story true based world young\n"
     ]
    }
   ],
   "source": [
    "### opic modeling is similar to the clustering analysis, but with text data\n",
    "#The point of this exerecise is to see what words python finds relative to one another\n",
    "\n",
    "\n",
    "from sklearn.feature_extraction.text import TfidfVectorizer, CountVectorizer\n",
    "\n",
    "no_features = 500\n",
    "\n",
    "documents = df2['Description'].dropna()\n",
    "\n",
    "tfidf_vectorizer = TfidfVectorizer(max_df=0.95, min_df=2, max_features=no_features, stop_words='english')\n",
    "tfidf = tfidf_vectorizer.fit_transform(documents)\n",
    "tfidf_feature_names = tfidf_vectorizer.get_feature_names()\n",
    "\n",
    "tf_vectorizer = CountVectorizer(max_df=0.95, min_df=2, max_features=no_features, stop_words='english')\n",
    "tf = tf_vectorizer.fit_transform(documents)\n",
    "tf_feature_names = tf_vectorizer.get_feature_names()\n",
    "\n",
    "from sklearn.decomposition import NMF, LatentDirichletAllocation\n",
    "\n",
    "no_topics = 2\n",
    "\n",
    "nmf = NMF(n_components=no_topics, random_state=1, alpha=.1, l1_ratio=.5, init='nndsvd').fit(tfidf)\n",
    "\n",
    "lda = LatentDirichletAllocation(n_topics=no_topics, max_iter=5, learning_method='online', learning_offset=50.,random_state=0).fit(tf)\n",
    "\n",
    "def display_topics(model, feature_names, no_top_words):\n",
    "    for topic_idx, topic in enumerate(model.components_):\n",
    "        print (\"Topic:\",topic_idx)\n",
    "        print (\" \".join([feature_names[i]\n",
    "                        for i in topic.argsort()[:-no_top_words - 1:-1]]))\n",
    "\n",
    "no_top_words = 5\n",
    "display_topics(nmf, tfidf_feature_names, no_top_words)\n",
    "display_topics(lda, tf_feature_names, no_top_words)"
   ]
  },
  {
   "cell_type": "code",
   "execution_count": 120,
   "metadata": {},
   "outputs": [
    {
     "data": {
      "text/plain": [
       "70.0374531835206"
      ]
     },
     "execution_count": 120,
     "metadata": {},
     "output_type": "execute_result"
    }
   ],
   "source": [
    "#import count function\n",
    "from collections import Counter\n",
    "\n",
    "#create list of words python clustered\n",
    "scikit2 = ['life', 'old', 'young', 'year', 'man', 'story', 'true', 'based', 'world', 'war', 'family']\n",
    "#create lists to hold found lists of movies\n",
    "#Years = []\n",
    "Title = []\n",
    "#iterate throught the length of the dataframe\n",
    "for i in range(len(df)):\n",
    "#iterate through the list of relationship words\n",
    "    for r in scikit2:\n",
    "#iterate through the series of descriptions\n",
    "        if r in df.Description.iloc[i]:\n",
    "\n",
    "#append the titles of movies to the locked index\n",
    "            #Years.append(df.Year.iloc[i])\n",
    "            Title.append(df.Title.iloc[i])\n",
    "#Counter(Years)\n",
    "#divide the length of the set list of titles by the full length of movies to find percentage of relationship movies\n",
    "scikit2_movies = len(list(set(Title)))/float(len(df))*100\n",
    "scikit2_movies"
   ]
  },
  {
   "cell_type": "markdown",
   "metadata": {},
   "source": [
    "# Man"
   ]
  },
  {
   "cell_type": "code",
   "execution_count": 121,
   "metadata": {},
   "outputs": [
    {
     "data": {
      "text/plain": [
       "13.732833957553058"
      ]
     },
     "execution_count": 121,
     "metadata": {},
     "output_type": "execute_result"
    }
   ],
   "source": [
    "#import count function\n",
    "from collections import Counter\n",
    "\n",
    "#create list of word man\n",
    "man_count = [' man']\n",
    "#create lists to hold found lists of movies\n",
    "#Years = []\n",
    "Title = []\n",
    "#iterate throught the length of the dataframe\n",
    "for i in range(len(df)):\n",
    "#iterate through the list of relationship words\n",
    "    for r in man_count:\n",
    "#iterate through the series of descriptions\n",
    "        if r in df.Description.iloc[i]:\n",
    "\n",
    "#append the titles of movies to the locked index\n",
    "            #Years.append(df.Year.iloc[i])\n",
    "            Title.append(df.Title.iloc[i])\n",
    "#Counter(Years)\n",
    "#divide the length of the set list of titles by the full length of movies to find percentage of relationship movies\n",
    "man_movies = len(list(set(Title)))/float(len(df))*100\n",
    "man_movies"
   ]
  },
  {
   "cell_type": "markdown",
   "metadata": {},
   "source": [
    "# Woman"
   ]
  },
  {
   "cell_type": "code",
   "execution_count": 122,
   "metadata": {},
   "outputs": [
    {
     "data": {
      "text/plain": [
       "7.490636704119851"
      ]
     },
     "execution_count": 122,
     "metadata": {},
     "output_type": "execute_result"
    }
   ],
   "source": [
    "#import count function\n",
    "from collections import Counter\n",
    "\n",
    "#create list of word man\n",
    "woman_count = [' woman']\n",
    "#create lists to hold found lists of movies\n",
    "#Years = []\n",
    "Title = []\n",
    "#iterate throught the length of the dataframe\n",
    "for i in range(len(df)):\n",
    "#iterate through the list of relationship words\n",
    "    for r in woman_count:\n",
    "#iterate through the series of descriptions\n",
    "        if r in df.Description.iloc[i]:\n",
    "\n",
    "#append the titles of movies to the locked index\n",
    "            #Years.append(df.Year.iloc[i])\n",
    "            Title.append(df.Title.iloc[i])\n",
    "#Counter(Years)\n",
    "#divide the length of the set list of titles by the full length of movies to find percentage of relationship movies\n",
    "woman_movies = len(list(set(Title)))/float(len(df))*100\n",
    "woman_movies"
   ]
  },
  {
   "cell_type": "markdown",
   "metadata": {},
   "source": [
    "# Word Clusters by Year"
   ]
  },
  {
   "cell_type": "code",
   "execution_count": 123,
   "metadata": {},
   "outputs": [
    {
     "name": "stderr",
     "output_type": "stream",
     "text": [
      "C:\\Users\\Demo\\Anaconda2\\lib\\site-packages\\sklearn\\decomposition\\online_lda.py:294: DeprecationWarning: n_topics has been renamed to n_components in version 0.19 and will be removed in 0.21\n",
      "  DeprecationWarning)\n"
     ]
    },
    {
     "name": "stdout",
     "output_type": "stream",
     "text": [
      "('Topic:', 0)\n",
      "äù based love life novel\n",
      "('Topic:', 1)\n",
      "äôs story äù ex private\n",
      "('Topic:', 0)\n",
      "äù love äô based woman\n",
      "('Topic:', 1)\n",
      "äù äôs based life wife\n"
     ]
    }
   ],
   "source": [
    "### opic modeling is similar to the clustering analysis, but with text data\n",
    "#The point of this exerecise is to see what words python finds relative to one another\n",
    "\n",
    "\n",
    "from sklearn.feature_extraction.text import TfidfVectorizer, CountVectorizer\n",
    "\n",
    "no_features = 100\n",
    "\n",
    "documents = df_2008['Description'].dropna()\n",
    "\n",
    "tfidf_vectorizer = TfidfVectorizer(max_df=0.95, min_df=2, max_features=no_features, stop_words='english')\n",
    "tfidf = tfidf_vectorizer.fit_transform(documents)\n",
    "tfidf_feature_names = tfidf_vectorizer.get_feature_names()\n",
    "\n",
    "tf_vectorizer = CountVectorizer(max_df=0.95, min_df=2, max_features=no_features, stop_words='english')\n",
    "tf = tf_vectorizer.fit_transform(documents)\n",
    "tf_feature_names = tf_vectorizer.get_feature_names()\n",
    "\n",
    "from sklearn.decomposition import NMF, LatentDirichletAllocation\n",
    "\n",
    "no_topics = 2\n",
    "\n",
    "nmf = NMF(n_components=no_topics, random_state=1, alpha=.1, l1_ratio=.5, init='nndsvd').fit(tfidf)\n",
    "\n",
    "lda = LatentDirichletAllocation(n_topics=no_topics, max_iter=5, learning_method='online', learning_offset=50.,random_state=0).fit(tf)\n",
    "\n",
    "def display_topics(model, feature_names, no_top_words):\n",
    "    for topic_idx, topic in enumerate(model.components_):\n",
    "        print (\"Topic:\",topic_idx)\n",
    "        print (\" \".join([feature_names[i]\n",
    "                        for i in topic.argsort()[:-no_top_words - 1:-1]]))\n",
    "\n",
    "no_top_words = 5\n",
    "display_topics(nmf, tfidf_feature_names, no_top_words)\n",
    "display_topics(lda, tf_feature_names, no_top_words)"
   ]
  }
 ],
 "metadata": {
  "kernelspec": {
   "display_name": "Python 2",
   "language": "python",
   "name": "python2"
  },
  "language_info": {
   "codemirror_mode": {
    "name": "ipython",
    "version": 2
   },
   "file_extension": ".py",
   "mimetype": "text/x-python",
   "name": "python",
   "nbconvert_exporter": "python",
   "pygments_lexer": "ipython2",
   "version": "2.7.13"
  }
 },
 "nbformat": 4,
 "nbformat_minor": 2
}
